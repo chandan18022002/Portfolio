{
 "cells": [
  {
   "cell_type": "code",
   "execution_count": 1,
   "id": "bf24df31",
   "metadata": {},
   "outputs": [],
   "source": [
    "import numpy as np\n",
    "from pynq import pl\n",
    "from pynq import allocate\n",
    "from pynq import Overlay\n",
    "import matplotlib.pyplot as plt\n",
    "from pynq.overlays.xadc_scope import xadc_scopeOverlay"
   ]
  },
  {
   "cell_type": "code",
   "execution_count": 2,
   "id": "18e3f01a",
   "metadata": {
    "scrolled": true
   },
   "outputs": [
    {
     "data": {
      "application/javascript": [
       "\n",
       "try {\n",
       "require(['notebook/js/codecell'], function(codecell) {\n",
       "  codecell.CodeCell.options_default.highlight_modes[\n",
       "      'magic_text/x-csrc'] = {'reg':[/^%%microblaze/]};\n",
       "  Jupyter.notebook.events.one('kernel_ready.Kernel', function(){\n",
       "      Jupyter.notebook.get_cells().map(function(cell){\n",
       "          if (cell.cell_type == 'code'){ cell.auto_highlight(); } }) ;\n",
       "  });\n",
       "});\n",
       "} catch (e) {};\n"
      ]
     },
     "metadata": {},
     "output_type": "display_data"
    },
    {
     "data": {
      "application/javascript": [
       "\n",
       "try {\n",
       "require(['notebook/js/codecell'], function(codecell) {\n",
       "  codecell.CodeCell.options_default.highlight_modes[\n",
       "      'magic_text/x-csrc'] = {'reg':[/^%%pybind11/]};\n",
       "  Jupyter.notebook.events.one('kernel_ready.Kernel', function(){\n",
       "      Jupyter.notebook.get_cells().map(function(cell){\n",
       "          if (cell.cell_type == 'code'){ cell.auto_highlight(); } }) ;\n",
       "  });\n",
       "});\n",
       "} catch (e) {};\n"
      ]
     },
     "metadata": {},
     "output_type": "display_data"
    }
   ],
   "source": [
    "overlay = xadc_scopeOverlay('design_1.bit')"
   ]
  },
  {
   "cell_type": "code",
   "execution_count": 3,
   "id": "105bcd41",
   "metadata": {},
   "outputs": [
    {
     "data": {
      "text/plain": [
       "dict_keys(['pdw_0', 'custom_ip_0', 'axi_dma_0', 'dma_adc', 'xadc_wiz_0', 'processing_system7_0'])"
      ]
     },
     "execution_count": 3,
     "metadata": {},
     "output_type": "execute_result"
    }
   ],
   "source": [
    "# overlay?\n",
    "# overlay.ip_dict['axi_dma_0']\n",
    "# overlay.axi_dma_0?\n",
    "overlay.ip_dict.keys()"
   ]
  },
  {
   "cell_type": "code",
   "execution_count": 10,
   "id": "70d3b53c",
   "metadata": {},
   "outputs": [],
   "source": [
    "dma = overlay.dma_adc\n",
    "# dma = ol.axi_dma_0\n",
    "# dma_send = overlay.dma_adc.sendchannel\n",
    "dma_recv = overlay.dma_adc.recvchannel"
   ]
  },
  {
   "cell_type": "code",
   "execution_count": 11,
   "id": "20870249",
   "metadata": {
    "scrolled": true
   },
   "outputs": [
    {
     "data": {
      "text/plain": [
       "False"
      ]
     },
     "execution_count": 11,
     "metadata": {},
     "output_type": "execute_result"
    }
   ],
   "source": [
    "dma.recvchannel.running"
   ]
  },
  {
   "cell_type": "code",
   "execution_count": 12,
   "id": "f278213c",
   "metadata": {
    "scrolled": true
   },
   "outputs": [],
   "source": [
    "data_size=10**5\n",
    "input_buffer = allocate(shape=(data_size,), dtype=np.uint32)\n",
    "time_l = allocate(shape=(data_size,), dtype=np.uint32)\n",
    "output_buffer=[]\n",
    "for i in range(10):\n",
    "    output_buffer.append(allocate(shape=(data_size,), dtype=np.uint32))\n",
    "# output_buffer = allocate(shape=(data_size,), dtype=np.uint32)\n",
    "# recvstatus = dma.recvchannel.running\n",
    "# dma.recvchannel.transfer(input_buffer)\n",
    "# # dma.recvchannel.wait_async()\n",
    "# mp.plot(input_buffer[:])\n",
    "for i in range(data_size):\n",
    "    input_buffer[i] = 0\n",
    "    time_l[i] = i"
   ]
  },
  {
   "cell_type": "code",
   "execution_count": 13,
   "id": "54fbc0b4",
   "metadata": {},
   "outputs": [
    {
     "name": "stdout",
     "output_type": "stream",
     "text": [
      "0\n",
      "0\n",
      "1\n",
      "1\n",
      "2\n",
      "2\n",
      "3\n",
      "3\n",
      "4\n",
      "4\n",
      "5\n",
      "5\n",
      "6\n",
      "6\n",
      "7\n",
      "7\n",
      "8\n",
      "8\n",
      "9\n",
      "9\n"
     ]
    }
   ],
   "source": [
    "lim=0\n",
    "for i in range(len(output_buffer)-lim):\n",
    "#     while not (dma_recv.idle):\n",
    "#         pass\n",
    "    print(i)\n",
    "    overlay = xadc_scopeOverlay('design_1.bit')\n",
    "    dma_recv = overlay.dma_adc.recvchannel\n",
    "    dma_recv.transfer(output_buffer[i])\n",
    "#     print(dma.recvchannel.wait_async())\n",
    "    print(i)\n",
    "#     break\n",
    "#     while not (dma_recv.idle):\n",
    "#         pass"
   ]
  },
  {
   "cell_type": "code",
   "execution_count": 14,
   "id": "870f3e93",
   "metadata": {},
   "outputs": [],
   "source": [
    "ci=0#len(time)//4\n",
    "cf=len(time_l)//1\n",
    "\n",
    "fig_x , fig_y = 25 , 2\n",
    "clrs= 'rgbcmyk'"
   ]
  },
  {
   "cell_type": "code",
   "execution_count": null,
   "id": "cfc8b034",
   "metadata": {},
   "outputs": [
    {
     "name": "stdout",
     "output_type": "stream",
     "text": [
      "1\n"
     ]
    },
    {
     "data": {
      "image/png": "[encoded data removed]",
      "text/plain": [
       "<Figure size 1800x144 with 1 Axes>"
      ]
     },
     "metadata": {
      "needs_background": "light"
     },
     "output_type": "display_data"
    },
    {
     "name": "stdout",
     "output_type": "stream",
     "text": [
      "2\n"
     ]
    },
    {
     "data": {
      "image/png": "[encoded data removed]",
      "text/plain": [
       "<Figure size 1800x144 with 1 Axes>"
      ]
     },
     "metadata": {
      "needs_background": "light"
     },
     "output_type": "display_data"
    },
    {
     "name": "stdout",
     "output_type": "stream",
     "text": [
      "3\n"
     ]
    }
   ],
   "source": [
    "for i in range(len(output_buffer)-lim):\n",
    "    print(i+1)\n",
    "    plt.figure(figsize=(fig_x , fig_y))\n",
    "    plt.plot(time_l[ci:cf],list(output_buffer[i])[ci:cf], color=clrs[0])\n",
    "    plt.xlabel(\"independent input pulses\")\n",
    "    # plt.ylim([0, ylim])\n",
    "    # plt.savefig(\"independent\"+str(jdx)+\".jpg\")\n",
    "    plt.show()\n",
    "#     break"
   ]
  },
  {
   "cell_type": "code",
   "execution_count": null,
   "id": "d11b053b",
   "metadata": {},
   "outputs": [],
   "source": []
  },
  {
   "cell_type": "code",
   "execution_count": null,
   "id": "fd61c1a6",
   "metadata": {},
   "outputs": [],
   "source": []
  },
  {
   "cell_type": "code",
   "execution_count": 44,
   "id": "ec7cff6c",
   "metadata": {},
   "outputs": [],
   "source": [
    "del input_buffer"
   ]
  },
  {
   "cell_type": "code",
   "execution_count": null,
   "id": "46a90390",
   "metadata": {},
   "outputs": [],
   "source": []
  }
 ],
 "metadata": {
  "kernelspec": {
   "display_name": "Python 3 (ipykernel)",
   "language": "python",
   "name": "python3"
  },
  "language_info": {
   "codemirror_mode": {
    "name": "ipython",
    "version": 3
   },
   "file_extension": ".py",
   "mimetype": "text/x-python",
   "name": "python",
   "nbconvert_exporter": "python",
   "pygments_lexer": "ipython3",
   "version": "3.10.4"
  }
 },
 "nbformat": 4,
 "nbformat_minor": 5
}
