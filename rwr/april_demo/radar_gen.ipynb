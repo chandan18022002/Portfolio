{
 "cells": [
  {
   "cell_type": "code",
   "execution_count": 1,
   "id": "b9cb6d2f",
   "metadata": {},
   "outputs": [],
   "source": [
    "from pynq import Overlay,allocate\n",
    "import numpy as np\n",
    "import matplotlib.pyplot as plt\n",
    "from IPython.display import clear_output"
   ]
  },
  {
   "cell_type": "code",
   "execution_count": 2,
   "id": "3c3d2baa",
   "metadata": {},
   "outputs": [
    {
     "data": {
      "application/javascript": [
       "\n",
       "try {\n",
       "require(['notebook/js/codecell'], function(codecell) {\n",
       "  codecell.CodeCell.options_default.highlight_modes[\n",
       "      'magic_text/x-csrc'] = {'reg':[/^%%microblaze/]};\n",
       "  Jupyter.notebook.events.one('kernel_ready.Kernel', function(){\n",
       "      Jupyter.notebook.get_cells().map(function(cell){\n",
       "          if (cell.cell_type == 'code'){ cell.auto_highlight(); } }) ;\n",
       "  });\n",
       "});\n",
       "} catch (e) {};\n"
      ]
     },
     "metadata": {},
     "output_type": "display_data"
    },
    {
     "data": {
      "application/javascript": [
       "\n",
       "try {\n",
       "require(['notebook/js/codecell'], function(codecell) {\n",
       "  codecell.CodeCell.options_default.highlight_modes[\n",
       "      'magic_text/x-csrc'] = {'reg':[/^%%pybind11/]};\n",
       "  Jupyter.notebook.events.one('kernel_ready.Kernel', function(){\n",
       "      Jupyter.notebook.get_cells().map(function(cell){\n",
       "          if (cell.cell_type == 'code'){ cell.auto_highlight(); } }) ;\n",
       "  });\n",
       "});\n",
       "} catch (e) {};\n"
      ]
     },
     "metadata": {},
     "output_type": "display_data"
    }
   ],
   "source": [
    "ol = Overlay(\"design_1.bit\")"
   ]
  },
  {
   "cell_type": "code",
   "execution_count": 3,
   "id": "f85dac16",
   "metadata": {},
   "outputs": [
    {
     "data": {
      "text/plain": [
       "dict_keys(['radar_gen_0', 'gpio', 'dma_radar_gen', 'processing_system7_0'])"
      ]
     },
     "execution_count": 3,
     "metadata": {},
     "output_type": "execute_result"
    }
   ],
   "source": [
    "ol.ip_dict.keys()\n",
    "# ol?"
   ]
  },
  {
   "cell_type": "code",
   "execution_count": 4,
   "id": "f9bb635c",
   "metadata": {},
   "outputs": [],
   "source": [
    "dma = ol.dma_radar_gen\n",
    "dma_send = ol.dma_radar_gen.sendchannel\n",
    "dma_recv = ol.dma_radar_gen.recvchannel"
   ]
  },
  {
   "cell_type": "code",
   "execution_count": 5,
   "id": "21f21e48",
   "metadata": {},
   "outputs": [
    {
     "name": "stdout",
     "output_type": "stream",
     "text": [
      "False False\n"
     ]
    }
   ],
   "source": [
    "print(dma_recv.idle,dma_send.idle)"
   ]
  },
  {
   "cell_type": "code",
   "execution_count": 6,
   "id": "7169f5cc",
   "metadata": {},
   "outputs": [],
   "source": [
    "# data_size = 10**6\n",
    "\n",
    "# input_buffer = allocate(shape=(data_size,), dtype=np.uint32)\n",
    "# output_buffer = allocate(shape=(data_size,), dtype=np.uint32)"
   ]
  },
  {
   "cell_type": "code",
   "execution_count": 7,
   "id": "5f22205d",
   "metadata": {},
   "outputs": [],
   "source": [
    "# #0,1 - signal\n",
    "# #2,3 - up/down\n",
    "# #4,5 - inc\n",
    "# #6,7 - cs\n",
    "# pwd = 10000\n",
    "# pri = 100000\n",
    "# for i in range(data_size):\n",
    "# #     print(round((i/data_size),4),i)\n",
    "# #     clear_output(wait=True)\n",
    "#     if((i%pri)>=0 and (i%pri)<pwd):\n",
    "#         input_buffer_s[i]=1\n",
    "#     else:\n",
    "#         input_buffer_s[i]=0\n",
    "# print(1)\n",
    "# inc_counter=0\n",
    "# upd_counter=0\n",
    "# for i in range(data_size):\n",
    "# #     print(round((i/data_size),4),i)\n",
    "# #     clear_output(wait=True)\n",
    "#     if((i%pri+pwd)>=0 and (i%pri+pwd)<pwd):\n",
    "#         input_buffer[i]=1\n",
    "#         inc_counter=0\n",
    "#     else:\n",
    "#         if(inc_counter==0):\n",
    "#             if(upd_counter==0):\n",
    "#                 upd_counter=1\n",
    "#                 input_buffer[i]=2\n",
    "#             else:\n",
    "#                 upd_counter=0\n",
    "#                 input_buffer[i]=3\n",
    "#         else:\n",
    "#             if(inc_counter<100):\n",
    "#                 inc_counter+=1\n",
    "#                 if(inc_counter%2==0):\n",
    "#                     input_buffer[i]=4\n",
    "#                 else:\n",
    "#                     input_buffer[i]=5\n",
    "#             else:\n",
    "#                 input_buffer[i]=0\n",
    "#     if(i==0):\n",
    "#         input_buffer[i]=7\n",
    "# print(2)"
   ]
  },
  {
   "cell_type": "code",
   "execution_count": 281,
   "id": "dbe4acb1",
   "metadata": {},
   "outputs": [
    {
     "name": "stdout",
     "output_type": "stream",
     "text": [
      "1\n",
      "2\n"
     ]
    }
   ],
   "source": [
    "# data_size = 1*(10**3)\n",
    "pwd=20\n",
    "data_size = (pwd*100)\n",
    "#sig_ud_inc_cs\n",
    "input_buffer = allocate(shape=(data_size,), dtype=np.uint32)\n",
    "output_buffer = allocate(shape=(data_size,), dtype=np.uint32)\n",
    "\n",
    "print(1)\n",
    "\n",
    "inc_counter=0\n",
    "upd_counter=0\n",
    "counter_pwd=10**6\n",
    "for i in range(data_size):\n",
    "#     print(round((i/data_size),4),i)\n",
    "#     clear_output(wait=True)\n",
    "#     if(i%counter_pwd<(counter_pwd*0.1)):\n",
    "    if(i%pwd<pwd//2):\n",
    "        input_buffer[i]=int('1010', 2)\n",
    "    else:\n",
    "        input_buffer[i]=int('1000', 2)\n",
    "print(2)"
   ]
  },
  {
   "cell_type": "code",
   "execution_count": 282,
   "id": "e1a463a7",
   "metadata": {},
   "outputs": [],
   "source": [
    "dma_send.transfer(input_buffer)\n",
    "dma_recv.transfer(output_buffer)\n",
    "\n",
    "# output_buffer"
   ]
  },
  {
   "cell_type": "code",
   "execution_count": 267,
   "id": "60a746ee",
   "metadata": {},
   "outputs": [],
   "source": [
    "for i in range(10000):\n",
    "#     clear_output(wait=True)\n",
    "#     print(i)\n",
    "    dma_send.transfer(input_buffer)\n",
    "    dma_recv.transfer(output_buffer)\n",
    "#     break\n",
    "    while(not dma_send.idle):\n",
    "        pass\n",
    "\n",
    "# dma_send.idle\n",
    "# output_buffer"
   ]
  },
  {
   "cell_type": "code",
   "execution_count": null,
   "id": "2159654c",
   "metadata": {},
   "outputs": [
    {
     "name": "stdout",
     "output_type": "stream",
     "text": [
      "353\n"
     ]
    }
   ],
   "source": [
    "# for i in range(1000):\n",
    "#     clear_output(wait=True)\n",
    "#     print(i)\n",
    "#     dma_send.transfer(input_buffer)\n",
    "#     dma_recv.transfer(output_buffer)\n",
    "# #     break\n",
    "#     while(not dma_send.idle):\n",
    "#         pass\n",
    "\n",
    "# dma_send.idle"
   ]
  },
  {
   "cell_type": "code",
   "execution_count": 21,
   "id": "b2d8dafc",
   "metadata": {},
   "outputs": [
    {
     "data": {
      "text/plain": [
       "True"
      ]
     },
     "execution_count": 21,
     "metadata": {},
     "output_type": "execute_result"
    }
   ],
   "source": [
    "# for i in range(1000):\n",
    "# #     clear_output(wait=True)\n",
    "# #     print(i)\n",
    "#     dma_send.transfer(input_buffer_s)\n",
    "#     dma_recv.transfer(output_buffer)\n",
    "# #     break\n",
    "#     while(not dma_send.idle):\n",
    "#         pass\n",
    "\n",
    "# dma_send.idle"
   ]
  },
  {
   "cell_type": "code",
   "execution_count": null,
   "id": "742080e1",
   "metadata": {},
   "outputs": [],
   "source": [
    "# data_size = 1*(10**3)\n",
    "pwd=500\n",
    "add_time=pwd*100\n",
    "data_size = add_time*20\n",
    "#sig_ud_inc_cs\n",
    "input_buffer_t = allocate(shape=(data_size,), dtype=np.uint32)\n",
    "output_buffer_t = allocate(shape=(data_size,), dtype=np.uint32)\n",
    "\n",
    "out=['1','1','1','1']\n",
    "print(1)\n",
    "count_p=0\n",
    "count_n=0\n",
    "count_l=0\n",
    "res=50\n",
    "current_res=50\n",
    "# data_set=[]\n",
    "curr_sig=0\n",
    "prev_sig=0\n",
    "flag=True\n",
    "print(data_size)\n",
    "i=0\n",
    "add_counter=0\n",
    "while (i <data_size):\n",
    "    if(i%(data_size/4)>=(4*(data_size/4)/5) and i%(data_size/4)<((data_size/4))):\n",
    "        if((i%(data_size/2))<(data_size/4)):\n",
    "            curr_sig=2\n",
    "#             print(2,end = '.')\n",
    "#             data_set.append(2)\n",
    "        else:\n",
    "            curr_sig=1\n",
    "#             print(1,end = '.')\n",
    "#             data_set.append(1)\n",
    "        out[0]='1'\n",
    "    else:\n",
    "        curr_sig=0\n",
    "#         print(0,end = '.')\n",
    "#         data_set.append(0)\n",
    "        out[0]='0'\n",
    "    if(curr_sig!=0):\n",
    "        if(curr_sig==1):\n",
    "            res=50\n",
    "        else:\n",
    "            res=100\n",
    "    if(res==current_res):\n",
    "        out[3]='1'\n",
    "        flag=True\n",
    "    else:\n",
    "        if(flag):\n",
    "            add_counter=0\n",
    "            flag=False\n",
    "            if(prev_sig == 0):\n",
    "                print(i,current_res,res)\n",
    "                if(i>pwd*100):\n",
    "                    i-=pwd*100\n",
    "                continue\n",
    "        out[3]='0'\n",
    "        if(current_res<res):\n",
    "            if(out[1]=='1'):\n",
    "                add_counter=0\n",
    "            add_counter+=1\n",
    "            if(add_counter>=pwd):\n",
    "                add_counter=0\n",
    "                current_res+=1\n",
    "                if(res==current_res):\n",
    "                    print(i,current_res)\n",
    "                else:\n",
    "                    print(i,current_res,end = ' | ')\n",
    "            out[1]='0'\n",
    "        else:\n",
    "            if(out[1]=='0'):\n",
    "                add_counter=0\n",
    "            add_counter+=1\n",
    "            if(add_counter>=pwd):\n",
    "                add_counter=0\n",
    "                current_res-=1\n",
    "                if(res==current_res):\n",
    "                    print(i,current_res)\n",
    "                else:\n",
    "                    print(i,current_res,end = ' | ')\n",
    "            out[1]='1'\n",
    "    if(out[3]=='0'):\n",
    "        if(i%pwd<pwd/2):\n",
    "            out[2]='1'\n",
    "        else:\n",
    "            out[2]='0'\n",
    "    out[3]='0'\n",
    "    input_buffer_t[i]=int(str(out[0]+out[1]+out[2]+out[3]), 2)\n",
    "    prev_sig=curr_sig\n",
    "    i+=1\n",
    "print()\n",
    "print(2)\n",
    "dma_send.transfer(input_buffer_t)\n",
    "dma_recv.transfer(output_buffer_t)"
   ]
  },
  {
   "cell_type": "code",
   "execution_count": null,
   "id": "ccebaebc",
   "metadata": {},
   "outputs": [],
   "source": [
    "dma_send.transfer(input_buffer_t_p)\n",
    "dma_recv.transfer(output_buffer_t_p)\n",
    "while(not dma_send.idle):\n",
    "    pass\n",
    "dma_send.transfer(input_buffer_t_p)\n",
    "dma_recv.transfer(output_buffer_t_p)\n",
    "while(not dma_send.idle):\n",
    "    pass\n",
    "dma_send.transfer(input_buffer_t_n)\n",
    "dma_recv.transfer(output_buffer_t_n)\n",
    "while(not dma_send.idle):\n",
    "    pass\n",
    "for i in range(100):\n",
    "#     clear_output(wait=True)\n",
    "#     print(i)\n",
    "    dma_send.transfer(input_buffer_t)\n",
    "    dma_recv.transfer(output_buffer_t)\n",
    "#     break\n",
    "    while(not dma_send.idle):\n",
    "        pass\n",
    "#     timess.sleep(0.001)\n",
    "\n",
    "# dma_send.idle\n",
    "# output_buffer"
   ]
  },
  {
   "cell_type": "code",
   "execution_count": null,
   "id": "fc783872",
   "metadata": {},
   "outputs": [],
   "source": [
    "for i in range(1000):\n",
    "#     clear_output(wait=True)\n",
    "#     print(i)\n",
    "    dma_send.transfer(input_buffer_t_n)\n",
    "    dma_recv.transfer(output_buffer_t_n)\n",
    "#     break\n",
    "    while(not dma_send.idle):\n",
    "        pass\n",
    "#     timess.sleep(0.001)\n",
    "    dma_send.transfer(input_buffer_t_p)\n",
    "    dma_recv.transfer(output_buffer_t_p)\n",
    "#     break\n",
    "    while(not dma_send.idle):\n",
    "        pass\n",
    "#     timess.sleep(0.001)\n",
    "\n",
    "# dma_send.idle\n",
    "# output_buffer"
   ]
  },
  {
   "cell_type": "code",
   "execution_count": null,
   "id": "30f50c07",
   "metadata": {},
   "outputs": [],
   "source": [
    "# data_size = 1*(10**3)\n",
    "pwd=13\n",
    "data_size = (pwd*50)\n",
    "#sig_ud_inc_cs\n",
    "input_buffer_t_p = allocate(shape=(data_size,), dtype=np.uint32)\n",
    "output_buffer_t_p = allocate(shape=(data_size,), dtype=np.uint32)\n",
    "\n",
    "out=['1','0','1','0']\n",
    "print(1)\n",
    "for i in range(data_size):\n",
    "#     print(round((i/data_size),4),i)\n",
    "#     clear_output(wait=True)\n",
    "#     if(i%counter_pwd<(counter_pwd*0.1)):\n",
    "    out[0]='1'\n",
    "    out[1]='0'\n",
    "    out[3]='0'\n",
    "    if(i%pwd<pwd//2):\n",
    "        out[2]='1'\n",
    "    else:\n",
    "        out[2]='0'\n",
    "    input_buffer_t_p[i]=int(str(out[0]+out[1]+out[2]+out[3]), 2)\n",
    "print(2)\n",
    "dma_send.transfer(input_buffer_t_p)\n",
    "dma_recv.transfer(output_buffer_t_p)\n",
    "\n",
    "# output_buffer"
   ]
  },
  {
   "cell_type": "code",
   "execution_count": null,
   "id": "f831ff0b",
   "metadata": {},
   "outputs": [],
   "source": [
    "# data_size = 1*(10**3)\n",
    "#sig_ud_inc_cs\n",
    "input_buffer_t_n = allocate(shape=(data_size,), dtype=np.uint32)\n",
    "output_buffer_t_n = allocate(shape=(data_size,), dtype=np.uint32)\n",
    "\n",
    "out=['1','0','1','0']\n",
    "print(1)\n",
    "for i in range(data_size):\n",
    "#     print(round((i/data_size),4),i)\n",
    "#     clear_output(wait=True)\n",
    "#     if(i%counter_pwd<(counter_pwd*0.1)):\n",
    "    out[0]='1'\n",
    "    out[1]='1'\n",
    "    out[3]='0'\n",
    "    if(i%pwd<pwd//2):\n",
    "        out[2]='1'\n",
    "    else:\n",
    "        out[2]='0'\n",
    "    input_buffer_t_n[i]=int(str(out[0]+out[1]+out[2]+out[3]), 2)\n",
    "print(2)\n",
    "dma_send.transfer(input_buffer_t_n)\n",
    "dma_recv.transfer(output_buffer_t_n)\n",
    "\n",
    "# output_buffer"
   ]
  },
  {
   "cell_type": "code",
   "execution_count": null,
   "id": "eb0976cc",
   "metadata": {},
   "outputs": [],
   "source": []
  },
  {
   "cell_type": "code",
   "execution_count": 10,
   "id": "18d08645",
   "metadata": {},
   "outputs": [
    {
     "data": {
      "text/plain": [
       "True"
      ]
     },
     "execution_count": 10,
     "metadata": {},
     "output_type": "execute_result"
    }
   ],
   "source": [
    "dma_send.idle"
   ]
  },
  {
   "cell_type": "code",
   "execution_count": 9,
   "id": "406c1778",
   "metadata": {},
   "outputs": [
    {
     "data": {
      "text/plain": [
       "PynqBuffer([ 500000000, 1000000000,          0, ...,          0,\n",
       "                     0,          0], dtype=uint32)"
      ]
     },
     "execution_count": 9,
     "metadata": {},
     "output_type": "execute_result"
    }
   ],
   "source": [
    "print(output_buffer)"
   ]
  },
  {
   "cell_type": "code",
   "execution_count": null,
   "id": "153a7175",
   "metadata": {},
   "outputs": [],
   "source": [
    "del input_buffer, output_buffer"
   ]
  },
  {
   "cell_type": "code",
   "execution_count": null,
   "id": "2039efcd",
   "metadata": {},
   "outputs": [],
   "source": []
  }
 ],
 "metadata": {
  "kernelspec": {
   "display_name": "Python 3 (ipykernel)",
   "language": "python",
   "name": "python3"
  },
  "language_info": {
   "codemirror_mode": {
    "name": "ipython",
    "version": 3
   },
   "file_extension": ".py",
   "mimetype": "text/x-python",
   "name": "python",
   "nbconvert_exporter": "python",
   "pygments_lexer": "ipython3",
   "version": "3.10.4"
  }
 },
 "nbformat": 4,
 "nbformat_minor": 5
}
