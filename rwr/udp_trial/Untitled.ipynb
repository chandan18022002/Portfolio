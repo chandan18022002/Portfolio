{
 "cells": [
  {
   "cell_type": "code",
   "execution_count": 1,
   "id": "a1bdeefd",
   "metadata": {},
   "outputs": [],
   "source": [
    "import socket\n",
    "import time"
   ]
  },
  {
   "cell_type": "code",
   "execution_count": 2,
   "id": "5fd75fcb",
   "metadata": {},
   "outputs": [
    {
     "name": "stdout",
     "output_type": "stream",
     "text": [
      "set 15,150,8.504,58,17.231355|23,352,6.504,134,19.582476\n"
     ]
    }
   ],
   "source": [
    "\n",
    "serverAddressPort1   = (\"127.0.0.1\", 20001)\n",
    "# serverAddressPort2   = (\"172.16.80.70\", 20002)\n",
    "serverAddressPort2   = (\"192.168.137.98\", 20002)\n",
    "bufferSize          = 1024\n",
    "UDPClientSocket = socket.socket(family=socket.AF_INET, type=socket.SOCK_DGRAM)\n",
    "\n",
    "def udp_call(msg_to_send,serverAddressPort):\n",
    "    bytesToSend = str.encode(msg_to_send)\n",
    "    UDPClientSocket.sendto(bytesToSend, serverAddressPort)\n",
    "    msgFromServer = UDPClientSocket.recvfrom(bufferSize)\n",
    "    msg = msgFromServer[0].decode().split(' ')\n",
    "    return msg\n",
    "tmp_emitter_records=[[15,150,8.504,58,17.231355],[23,352,6.504,134,19.582476]]\n",
    "send_message=''\n",
    "for i in tmp_emitter_records:\n",
    "    for j in i:\n",
    "        send_message+=str(j)\n",
    "        send_message+=','\n",
    "    send_message=send_message[:-1]\n",
    "    send_message+='|'\n",
    "send_message=send_message[:-1]\n",
    "send_message = 'set '+send_message\n",
    "print(send_message)"
   ]
  },
  {
   "cell_type": "code",
   "execution_count": 3,
   "id": "63925578",
   "metadata": {},
   "outputs": [],
   "source": [
    "# print(udp_call('aircraft ontick1',serverAddressPort1))"
   ]
  },
  {
   "cell_type": "code",
   "execution_count": null,
   "id": "730c9f47",
   "metadata": {},
   "outputs": [],
   "source": [
    "print('get ->',udp_call('get',serverAddressPort2))"
   ]
  },
  {
   "cell_type": "code",
   "execution_count": null,
   "id": "c042950b",
   "metadata": {},
   "outputs": [
    {
     "name": "stdout",
     "output_type": "stream",
     "text": [
      "get -> ['-1', '1']\n",
      "set -> ['set', 'successful']\n",
      "get -> ['-1', '1']\n",
      "set -> ['set', 'successful']\n",
      "get -> ['-1', '1']\n",
      "set -> ['set', 'successful']\n",
      "get -> ['-1', '1']\n",
      "set -> ['set', 'successful']\n",
      "get -> ['-1', '1']\n",
      "set -> ['set', 'successful']\n"
     ]
    }
   ],
   "source": [
    "for i in range(10000):\n",
    "    print('get ->',udp_call('get',serverAddressPort2))\n",
    "    print('set ->',udp_call(send_message,serverAddressPort2))\n",
    "    time.sleep(1)"
   ]
  },
  {
   "cell_type": "code",
   "execution_count": null,
   "id": "f3c01120",
   "metadata": {},
   "outputs": [],
   "source": []
  }
 ],
 "metadata": {
  "kernelspec": {
   "display_name": "Python 3 (ipykernel)",
   "language": "python",
   "name": "python3"
  },
  "language_info": {
   "codemirror_mode": {
    "name": "ipython",
    "version": 3
   },
   "file_extension": ".py",
   "mimetype": "text/x-python",
   "name": "python",
   "nbconvert_exporter": "python",
   "pygments_lexer": "ipython3",
   "version": "3.10.4"
  }
 },
 "nbformat": 4,
 "nbformat_minor": 5
}
