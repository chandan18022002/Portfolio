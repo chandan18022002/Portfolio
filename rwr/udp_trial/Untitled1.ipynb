{
 "cells": [
  {
   "cell_type": "code",
   "execution_count": null,
   "id": "cab59b85",
   "metadata": {},
   "outputs": [
    {
     "name": "stdout",
     "output_type": "stream",
     "text": [
      "0\n"
     ]
    }
   ],
   "source": [
    "import socket\n",
    "localIP     = \"127.0.0.1\"\n",
    "localPort   = 20001\n",
    "bufferSize  = 1024\n",
    "UDPServerSocket = socket.socket(family=socket.AF_INET, type=socket.SOCK_DGRAM)\n",
    "UDPServerSocket.bind((localIP, localPort))\n",
    "\n",
    "for i in range(100):\n",
    "    print(i)\n",
    "    bytesAddressPair = UDPServerSocket.recvfrom(bufferSize)\n",
    "    address = bytesAddressPair[1]\n",
    "    message = bytesAddressPair[0].decode().split()\n",
    "    print(message,address)\n",
    "    send_message=bytesAddressPair[0].decode()+'!!!'\n",
    "    UDPServerSocket.sendto(str.encode(send_message), address)"
   ]
  },
  {
   "cell_type": "code",
   "execution_count": null,
   "id": "e40ecb46",
   "metadata": {},
   "outputs": [],
   "source": []
  }
 ],
 "metadata": {
  "kernelspec": {
   "display_name": "Python 3 (ipykernel)",
   "language": "python",
   "name": "python3"
  },
  "language_info": {
   "codemirror_mode": {
    "name": "ipython",
    "version": 3
   },
   "file_extension": ".py",
   "mimetype": "text/x-python",
   "name": "python",
   "nbconvert_exporter": "python",
   "pygments_lexer": "ipython3",
   "version": "3.10.4"
  }
 },
 "nbformat": 4,
 "nbformat_minor": 5
}
