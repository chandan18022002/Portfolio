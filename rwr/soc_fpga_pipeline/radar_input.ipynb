{
 "cells": [
  {
   "cell_type": "code",
   "execution_count": 1,
   "id": "b9cb6d2f",
   "metadata": {},
   "outputs": [],
   "source": [
    "from pynq import Overlay,allocate\n",
    "import numpy as np\n",
    "import matplotlib.pyplot as plt"
   ]
  },
  {
   "cell_type": "code",
   "execution_count": 2,
   "id": "3c3d2baa",
   "metadata": {},
   "outputs": [
    {
     "data": {
      "application/javascript": [
       "\n",
       "try {\n",
       "require(['notebook/js/codecell'], function(codecell) {\n",
       "  codecell.CodeCell.options_default.highlight_modes[\n",
       "      'magic_text/x-csrc'] = {'reg':[/^%%microblaze/]};\n",
       "  Jupyter.notebook.events.one('kernel_ready.Kernel', function(){\n",
       "      Jupyter.notebook.get_cells().map(function(cell){\n",
       "          if (cell.cell_type == 'code'){ cell.auto_highlight(); } }) ;\n",
       "  });\n",
       "});\n",
       "} catch (e) {};\n"
      ]
     },
     "metadata": {},
     "output_type": "display_data"
    },
    {
     "data": {
      "application/javascript": [
       "\n",
       "try {\n",
       "require(['notebook/js/codecell'], function(codecell) {\n",
       "  codecell.CodeCell.options_default.highlight_modes[\n",
       "      'magic_text/x-csrc'] = {'reg':[/^%%pybind11/]};\n",
       "  Jupyter.notebook.events.one('kernel_ready.Kernel', function(){\n",
       "      Jupyter.notebook.get_cells().map(function(cell){\n",
       "          if (cell.cell_type == 'code'){ cell.auto_highlight(); } }) ;\n",
       "  });\n",
       "});\n",
       "} catch (e) {};\n"
      ]
     },
     "metadata": {},
     "output_type": "display_data"
    }
   ],
   "source": [
    "ol = Overlay(\"design_1.bit\")"
   ]
  },
  {
   "cell_type": "code",
   "execution_count": 3,
   "id": "f85dac16",
   "metadata": {},
   "outputs": [
    {
     "data": {
      "text/plain": [
       "dict_keys(['radar_input_trial', 'dma_radar_input_trial', 'processing_system7_0'])"
      ]
     },
     "execution_count": 3,
     "metadata": {},
     "output_type": "execute_result"
    }
   ],
   "source": [
    "ol.ip_dict.keys()\n",
    "# ol?"
   ]
  },
  {
   "cell_type": "code",
   "execution_count": 4,
   "id": "f9bb635c",
   "metadata": {},
   "outputs": [],
   "source": [
    "dma = ol.dma_radar_input_trial\n",
    "dma_send = ol.dma_radar_input_trial.sendchannel\n",
    "dma_recv = ol.dma_radar_input_trial.recvchannel"
   ]
  },
  {
   "cell_type": "code",
   "execution_count": 5,
   "id": "21f21e48",
   "metadata": {},
   "outputs": [
    {
     "name": "stdout",
     "output_type": "stream",
     "text": [
      "False False\n"
     ]
    }
   ],
   "source": [
    "print(dma_recv.idle,dma_send.idle)"
   ]
  },
  {
   "cell_type": "code",
   "execution_count": 37,
   "id": "5f22205d",
   "metadata": {},
   "outputs": [],
   "source": [
    "data_size = 2\n",
    "\n",
    "input_buffer = allocate(shape=(data_size,), dtype=np.int32)\n",
    "output_buffer = allocate(shape=(data_size,), dtype=np.int32)\n",
    "\n",
    "input_buffer[0] = 125000 #pwd\n",
    "input_buffer[1] = 3500000 #pri"
   ]
  },
  {
   "cell_type": "code",
   "execution_count": 60,
   "id": "68e53266",
   "metadata": {},
   "outputs": [],
   "source": [
    "data_size = 2\n",
    "\n",
    "input_buffer = allocate(shape=(data_size,), dtype=np.int32)\n",
    "output_buffer = allocate(shape=(data_size,), dtype=np.int32)\n",
    "\n",
    "input_buffer[1] = 125000 #pwd\n",
    "input_buffer[0] = 3500000 #pri"
   ]
  },
  {
   "cell_type": "code",
   "execution_count": 61,
   "id": "8304aac9",
   "metadata": {},
   "outputs": [],
   "source": [
    "dma_send.transfer(input_buffer)\n",
    "dma_recv.transfer(output_buffer)"
   ]
  },
  {
   "cell_type": "code",
   "execution_count": null,
   "id": "0e159e75",
   "metadata": {},
   "outputs": [],
   "source": [
    "output_buffer"
   ]
  },
  {
   "cell_type": "code",
   "execution_count": null,
   "id": "153a7175",
   "metadata": {},
   "outputs": [],
   "source": [
    "del input_buffer, output_buffer"
   ]
  }
 ],
 "metadata": {
  "kernelspec": {
   "display_name": "Python 3 (ipykernel)",
   "language": "python",
   "name": "python3"
  },
  "language_info": {
   "codemirror_mode": {
    "name": "ipython",
    "version": 3
   },
   "file_extension": ".py",
   "mimetype": "text/x-python",
   "name": "python",
   "nbconvert_exporter": "python",
   "pygments_lexer": "ipython3",
   "version": "3.10.4"
  }
 },
 "nbformat": 4,
 "nbformat_minor": 5
}
