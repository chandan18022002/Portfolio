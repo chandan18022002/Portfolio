{
 "cells": [
  {
   "cell_type": "code",
   "execution_count": 1,
   "id": "72c57d29",
   "metadata": {},
   "outputs": [],
   "source": [
    "from pynq import Overlay,allocate\n",
    "import numpy as np\n",
    "import matplotlib.pyplot as plt"
   ]
  },
  {
   "cell_type": "code",
   "execution_count": 2,
   "id": "e8cde5af",
   "metadata": {},
   "outputs": [
    {
     "data": {
      "application/javascript": [
       "\n",
       "try {\n",
       "require(['notebook/js/codecell'], function(codecell) {\n",
       "  codecell.CodeCell.options_default.highlight_modes[\n",
       "      'magic_text/x-csrc'] = {'reg':[/^%%microblaze/]};\n",
       "  Jupyter.notebook.events.one('kernel_ready.Kernel', function(){\n",
       "      Jupyter.notebook.get_cells().map(function(cell){\n",
       "          if (cell.cell_type == 'code'){ cell.auto_highlight(); } }) ;\n",
       "  });\n",
       "});\n",
       "} catch (e) {};\n"
      ]
     },
     "metadata": {},
     "output_type": "display_data"
    },
    {
     "data": {
      "application/javascript": [
       "\n",
       "try {\n",
       "require(['notebook/js/codecell'], function(codecell) {\n",
       "  codecell.CodeCell.options_default.highlight_modes[\n",
       "      'magic_text/x-csrc'] = {'reg':[/^%%pybind11/]};\n",
       "  Jupyter.notebook.events.one('kernel_ready.Kernel', function(){\n",
       "      Jupyter.notebook.get_cells().map(function(cell){\n",
       "          if (cell.cell_type == 'code'){ cell.auto_highlight(); } }) ;\n",
       "  });\n",
       "});\n",
       "} catch (e) {};\n"
      ]
     },
     "metadata": {},
     "output_type": "display_data"
    }
   ],
   "source": [
    "ol = Overlay(\"design_1.bit\")"
   ]
  },
  {
   "cell_type": "code",
   "execution_count": 3,
   "id": "6c4f6bc1",
   "metadata": {},
   "outputs": [
    {
     "data": {
      "text/plain": [
       "dict_keys(['axi_dma_0', 'processing_system7_0'])"
      ]
     },
     "execution_count": 3,
     "metadata": {},
     "output_type": "execute_result"
    }
   ],
   "source": [
    "ol.ip_dict.keys()\n",
    "# ol?"
   ]
  },
  {
   "cell_type": "code",
   "execution_count": 4,
   "id": "0a4f0eaa",
   "metadata": {},
   "outputs": [],
   "source": [
    "dma = ol.axi_dma_0\n",
    "dma_send = ol.axi_dma_0.sendchannel\n",
    "dma_recv = ol.axi_dma_0.recvchannel"
   ]
  },
  {
   "cell_type": "code",
   "execution_count": 5,
   "id": "3156ad49",
   "metadata": {},
   "outputs": [
    {
     "data": {
      "text/plain": [
       "False"
      ]
     },
     "execution_count": 5,
     "metadata": {},
     "output_type": "execute_result"
    }
   ],
   "source": [
    "dma_recv.idle"
   ]
  },
  {
   "cell_type": "code",
   "execution_count": 11,
   "id": "22ca1f49",
   "metadata": {
    "scrolled": true
   },
   "outputs": [],
   "source": [
    "data_size = 1*(10**2)\n",
    "input_buffer = allocate(shape=(data_size,), dtype=np.uint32)\n",
    "output_buffer = allocate(shape=(data_size,), dtype=np.uint32)\n",
    "time_l = allocate(shape=(data_size,), dtype=np.uint32)"
   ]
  },
  {
   "cell_type": "code",
   "execution_count": 12,
   "id": "48cc23ad",
   "metadata": {},
   "outputs": [],
   "source": [
    "for i in range(data_size):\n",
    "    input_buffer[i] = 0\n",
    "    time_l[i] = i"
   ]
  },
  {
   "cell_type": "code",
   "execution_count": 13,
   "id": "71287c36",
   "metadata": {},
   "outputs": [],
   "source": [
    "dma_send.transfer(input_buffer)\n",
    "dma_recv.transfer(output_buffer)"
   ]
  },
  {
   "cell_type": "code",
   "execution_count": 14,
   "id": "dd44ba78",
   "metadata": {},
   "outputs": [
    {
     "data": {
      "text/plain": [
       "False"
      ]
     },
     "execution_count": 14,
     "metadata": {},
     "output_type": "execute_result"
    }
   ],
   "source": [
    "dma_recv.idle\n",
    "# while not (dma_recv.idle):\n",
    "#     pass"
   ]
  },
  {
   "cell_type": "code",
   "execution_count": 15,
   "id": "60192c7d",
   "metadata": {},
   "outputs": [
    {
     "data": {
      "text/plain": [
       "PynqBuffer([ 60000,  90733,  20000,  60000,  20000,  60000,  61572,\n",
       "            100000,  68428,  60000,  20000,  60000,  20000, 100000,\n",
       "             20000,  60000,  20000,  60000,  61573, 100000,  68427,\n",
       "             60000,  20000,  60000,  20000, 100000,  60000,  20000,\n",
       "             60000,  20000,  60000, 100000,  68426,  60000,  20000,\n",
       "             60000, 100000,  60000,  20000,  60000,  20000,  60000,\n",
       "            100000,  61575,  68425,  60000,  20000, 100000,  20000,\n",
       "             60000,  20000,  60000,  20000,  60000, 100000,  61576,\n",
       "             68424,  60000,  20000, 100000,  60000,  20000,  60000,\n",
       "             20000,  60000,  20000, 100000,  61577,  68423,  60000,\n",
       "            100000,  60000,  20000,  60000,  20000,  60000, 100000,\n",
       "             60000,  61578,  68422, 100000,  20000,  60000,  20000,\n",
       "             60000,  20000,  60000, 100000,  20000,  60000,  61579,\n",
       "             68421, 100000,  60000,  20000,  60000,  20000,  60000,\n",
       "             20000, 100000], dtype=uint32)"
      ]
     },
     "execution_count": 15,
     "metadata": {},
     "output_type": "execute_result"
    }
   ],
   "source": [
    "output_buffer"
   ]
  },
  {
   "cell_type": "code",
   "execution_count": 16,
   "id": "16478102",
   "metadata": {},
   "outputs": [],
   "source": [
    "pwds={}\n",
    "for i in range(len(output_buffer)):\n",
    "#     if(i%2==0):\n",
    "    if(1):\n",
    "        if(output_buffer[i] in pwds):\n",
    "            pwds[output_buffer[i]]+=1\n",
    "        else:\n",
    "            pwds[output_buffer[i]]=0\n",
    "# pwds=set(output_buffer)\n",
    "# pwds"
   ]
  },
  {
   "cell_type": "code",
   "execution_count": 17,
   "id": "f8df420e",
   "metadata": {},
   "outputs": [
    {
     "name": "stdout",
     "output_type": "stream",
     "text": [
      "60000\n",
      "20000\n",
      "100000\n"
     ]
    }
   ],
   "source": [
    "# print(len(pwds),len(output_buffer),len(output_buffer)-len(pwds))\n",
    "for i in tuple(pwds.keys()):\n",
    "    if pwds[i]>0 and i!=0:\n",
    "        print(i)"
   ]
  },
  {
   "cell_type": "code",
   "execution_count": null,
   "id": "d0788a86",
   "metadata": {},
   "outputs": [],
   "source": []
  },
  {
   "cell_type": "code",
   "execution_count": null,
   "id": "64854277",
   "metadata": {},
   "outputs": [],
   "source": []
  },
  {
   "cell_type": "code",
   "execution_count": null,
   "id": "4918c822",
   "metadata": {},
   "outputs": [],
   "source": []
  },
  {
   "cell_type": "code",
   "execution_count": null,
   "id": "b28d3b8a",
   "metadata": {},
   "outputs": [],
   "source": []
  },
  {
   "cell_type": "code",
   "execution_count": null,
   "id": "0432bafb",
   "metadata": {},
   "outputs": [],
   "source": [
    "del input_buffer, output_buffer"
   ]
  }
 ],
 "metadata": {
  "kernelspec": {
   "display_name": "Python 3 (ipykernel)",
   "language": "python",
   "name": "python3"
  },
  "language_info": {
   "codemirror_mode": {
    "name": "ipython",
    "version": 3
   },
   "file_extension": ".py",
   "mimetype": "text/x-python",
   "name": "python",
   "nbconvert_exporter": "python",
   "pygments_lexer": "ipython3",
   "version": "3.10.4"
  }
 },
 "nbformat": 4,
 "nbformat_minor": 5
}
