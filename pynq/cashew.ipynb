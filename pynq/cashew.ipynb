{
 "cells": [
  {
   "cell_type": "code",
   "execution_count": 1,
   "id": "25baf4d5-e5aa-4bc9-9ac0-2fe785f45dde",
   "metadata": {
    "tags": []
   },
   "outputs": [],
   "source": [
    "import cv2 \n",
    "import math\n",
    "import numpy as np\n",
    "import imutils\n",
    "from numba import jit, cuda\n",
    "from timeit import default_timer as timer\n",
    "import math as m\n",
    "from PIL import Image \n",
    "from IPython.display import clear_output\n",
    "\n",
    "from tensorflow import keras\n",
    "import keras.utils as image"
   ]
  },
  {
   "cell_type": "code",
   "execution_count": 2,
   "id": "7720c5f1-d6d2-40d9-8bd5-39faa7598d09",
   "metadata": {
    "tags": []
   },
   "outputs": [],
   "source": [
    "def classify_cashew(cam=0):\n",
    "    mlt=10000\n",
    "    cap = cv2.VideoCapture(int(cam),cv2.CAP_DSHOW)\n",
    "    model = keras.models.load_model('cashew_320_400.h5')\n",
    "    class_indices=['320','400']\n",
    "    while(True):\n",
    "        ret, img = cap.read()\n",
    "        img=img[80:,125:-50]\n",
    "        cv2.imwrite('snapshot.png', mask(img))\n",
    "        \n",
    "        cnn_file = 'snapshot.png'\n",
    "        cnn_img = image.load_img(cnn_file, target_size=(150, 150))\n",
    "        cnn_img = image.img_to_array(cnn_img)\n",
    "        cnn_img = np.expand_dims(cnn_img, axis=0)\n",
    "        cnn_img = cnn_img/255\n",
    "        prediction_prob = model.predict(cnn_img,verbose=0)\n",
    "        print(prediction_prob[0][0]*mlt)\n",
    "        if prediction_prob[0][0]*mlt < 0.5:\n",
    "            print(class_indices[0])\n",
    "            img = cv2.putText(img,class_indices[0], (50, 50),cv2.FONT_HERSHEY_SIMPLEX,1,(0, 0, 255), 2, cv2.LINE_AA)\n",
    "        else:\n",
    "            print(class_indices[1])\n",
    "        \n",
    "        cv2.namedWindow(\"original\", cv2.WINDOW_NORMAL)\n",
    "        cv2.resizeWindow(\"original\", 330, 255)\n",
    "        cv2.namedWindow(\"processed1\", cv2.WINDOW_NORMAL)        \n",
    "        cv2.resizeWindow(\"processed1\", 330, 255)\n",
    "        # cv2.namedWindow(\"processed2\", cv2.WINDOW_NORMAL)        \n",
    "        # cv2.resizeWindow(\"processed2\", 330, 255)\n",
    "        # cv2.namedWindow(\"processed3\", cv2.WINDOW_NORMAL)        \n",
    "        # cv2.resizeWindow(\"processed3\", 330, 255)\n",
    "        # cv2.namedWindow(\"processed4\", cv2.WINDOW_NORMAL)        \n",
    "        # cv2.resizeWindow(\"processed4\", 330, 255)\n",
    "\n",
    "        cv2.imshow('original', img)\n",
    "        cv2.imshow('processed1', mask(img))\n",
    "        # cv2.imshow('processed2', fg)\n",
    "        # cv2.imshow('processed3', target)\n",
    "        # cv2.imshow('processed4', fimg)\n",
    "        \n",
    "\n",
    "        if cv2.waitKey(1) & 0xFF == ord('q'):\n",
    "            break\n",
    "        clear_output(wait=True)\n",
    "\n",
    "        # cv2.waitKey(0)\n",
    "    cap.release()\n",
    "    cv2.destroyAllWindows()"
   ]
  },
  {
   "cell_type": "code",
   "execution_count": 3,
   "id": "0b877978-513b-4bd7-aa0f-540ee359aa4c",
   "metadata": {
    "tags": []
   },
   "outputs": [],
   "source": [
    "def mask(img):\n",
    "    image=cv2.blur(img, (10,10))\n",
    "    hsv = cv2.cvtColor(image, cv2.COLOR_BGR2HSV)\n",
    "    mask = cv2.inRange(hsv, (23,38,100), (40, 200, 200))\n",
    "    target = cv2.bitwise_and(img,img, mask=mask)\n",
    "    return target\n",
    "\n",
    "def thresh(img):\n",
    "    ret, thresh = cv2.threshold(img, 120, 255, cv2.THRESH_BINARY)\n",
    "    # ret, thresh = cv2.threshold(img, 120, 255, cv2.THRESH_BINARY_INV)\n",
    "    # ret, thresh = cv2.threshold(img, 120, 255, cv2.THRESH_TRUNC)\n",
    "    # ret, thresh = cv2.threshold(img, 120, 255, cv2.THRESH_TOZERO)\n",
    "    # ret, thresh = cv2.threshold(img, 120, 255, cv2.THRESH_TOZERO_INV)\n",
    "    return thresh"
   ]
  },
  {
   "cell_type": "code",
   "execution_count": 8,
   "id": "896fec43-1f66-43bc-bc13-da2e80f2aa22",
   "metadata": {
    "tags": []
   },
   "outputs": [
    {
     "name": "stdout",
     "output_type": "stream",
     "text": [
      "9999.994039535522\n",
      "400\n"
     ]
    }
   ],
   "source": [
    "classify_cashew(0)"
   ]
  },
  {
   "cell_type": "code",
   "execution_count": 199,
   "id": "38ccd03b-aa7d-410c-970e-28afc73bce1f",
   "metadata": {
    "tags": []
   },
   "outputs": [
    {
     "data": {
      "text/plain": [
       "0"
      ]
     },
     "execution_count": 199,
     "metadata": {},
     "output_type": "execute_result"
    }
   ],
   "source": [
    "class_indices={'320': 0, '400': 1}\n",
    "class_indices['320']"
   ]
  },
  {
   "cell_type": "code",
   "execution_count": null,
   "id": "fd42b710-892d-4030-af26-eff6b4b5fe48",
   "metadata": {},
   "outputs": [],
   "source": []
  },
  {
   "cell_type": "code",
   "execution_count": null,
   "id": "1365d8a2-d117-4357-8b10-1e1202216ac6",
   "metadata": {},
   "outputs": [],
   "source": []
  },
  {
   "cell_type": "code",
   "execution_count": 21,
   "id": "2b93e28c-7259-4ea3-a8c2-66a63c3835c8",
   "metadata": {
    "tags": []
   },
   "outputs": [],
   "source": []
  },
  {
   "cell_type": "code",
   "execution_count": 1,
   "id": "08054959-c528-4816-88bf-ef63c7d2a651",
   "metadata": {
    "tags": []
   },
   "outputs": [
    {
     "ename": "TypeError",
     "evalue": "'NoneType' object is not subscriptable",
     "output_type": "error",
     "traceback": [
      "\u001b[1;31m---------------------------------------------------------------------------\u001b[0m",
      "\u001b[1;31mTypeError\u001b[0m                                 Traceback (most recent call last)",
      "Cell \u001b[1;32mIn[1], line 52\u001b[0m\n\u001b[0;32m     50\u001b[0m ret, frame \u001b[38;5;241m=\u001b[39m cam\u001b[38;5;241m.\u001b[39mread()\n\u001b[0;32m     51\u001b[0m \u001b[38;5;66;03m# print(4)\u001b[39;00m\n\u001b[1;32m---> 52\u001b[0m frame\u001b[38;5;241m=\u001b[39m\u001b[43mframe\u001b[49m\u001b[43m[\u001b[49m\u001b[43m:\u001b[49m\u001b[43m,\u001b[49m\u001b[38;5;241;43m125\u001b[39;49m\u001b[43m:\u001b[49m\u001b[38;5;241;43m-\u001b[39;49m\u001b[38;5;241;43m50\u001b[39;49m\u001b[43m]\u001b[49m\n\u001b[0;32m     53\u001b[0m msk,bg\u001b[38;5;241m=\u001b[39mmask(frame)\n\u001b[0;32m     54\u001b[0m gframe \u001b[38;5;241m=\u001b[39m cv2\u001b[38;5;241m.\u001b[39mcvtColor(frame, cv2\u001b[38;5;241m.\u001b[39mCOLOR_BGR2GRAY)\n",
      "\u001b[1;31mTypeError\u001b[0m: 'NoneType' object is not subscriptable"
     ]
    }
   ],
   "source": [
    "import cv2\n",
    "import numpy as np\n",
    "\n",
    "def mask(img):\n",
    "    image=cv2.blur(img, (10,10))\n",
    "    hsv = cv2.cvtColor(image, cv2.COLOR_BGR2HSV)\n",
    "    \n",
    "    mask1 = cv2.bitwise_not(cv2.inRange(hsv, (0,0,255-150), (255,150,255)))\n",
    "    mask2 = cv2.inRange(hsv, (60 - 200, 100, 100),(60 + 200, 255, 255))\n",
    "    mask3 = cv2.inRange(hsv, (16, 63, 0),(24, 200, 200))\n",
    "    mask = cv2.bitwise_or(cv2.bitwise_or(mask1,mask2),mask3)\n",
    "    \n",
    "    # mask = cv2.inRange(hsv, (23,38,100), (40, 200, 200))\n",
    "    target = cv2.bitwise_and(img,img, mask=mask)\n",
    "    return (target,mask)\n",
    "\n",
    "def thresh(img):\n",
    "    ret, thresh = cv2.threshold(img, 120, 255, cv2.THRESH_BINARY)\n",
    "    return thresh\n",
    "\n",
    "def threshi(img):\n",
    "    # ret, thresh = cv2.threshold(img, 0, 255, cv2.THRESH_BINARY_INV + cv2.THRESH_OTSU)\n",
    "    ret, thresh = cv2.threshold(img, 120, 255, cv2.THRESH_BINARY_INV)\n",
    "    return thresh\n",
    "\n",
    "def seg(image):\n",
    "    mask = np.zeros(image.shape[:2], np.uint8)\n",
    "    backgroundModel = np.zeros((1, 65), np.float64)\n",
    "    foregroundModel = np.zeros((1, 65), np.float64)\n",
    "    rectangle = (0,0,image.shape[0],image.shape[1])\n",
    "    cv2.grabCut(image, mask, rectangle,backgroundModel, foregroundModel,3, cv2.GC_INIT_WITH_RECT)\n",
    "    mask2 = np.where((mask == 2)|(mask == 0), 0, 1).astype('uint8')\n",
    "    image = image * mask2[:, :, np.newaxis]\n",
    "    return image\n",
    "cam = cv2.VideoCapture(0,cv2.CAP_DSHOW)\n",
    "        \n",
    "# cv2.namedWindow(\"original\", cv2.WINDOW_NORMAL)\n",
    "# cv2.resizeWindow(\"original\", 630, 455)\n",
    "# cv2.namedWindow(\"processed\", cv2.WINDOW_NORMAL)        \n",
    "# cv2.resizeWindow(\"processed\", 630, 455)\n",
    "# cv2.namedWindow(\"processed1\", cv2.WINDOW_NORMAL)        \n",
    "# cv2.resizeWindow(\"processed1\", 630, 455)\n",
    "# cv2.namedWindow(\"processed2\", cv2.WINDOW_NORMAL)        \n",
    "# cv2.resizeWindow(\"processed2\", 630, 455)\n",
    "# cv2.namedWindow(\"processed3\", cv2.WINDOW_NORMAL)        \n",
    "# cv2.resizeWindow(\"processed3\", 330, 255)\n",
    "\n",
    "while(True):\n",
    "    # print(3)\n",
    "    ret, frame = cam.read()\n",
    "    # print(4)\n",
    "    frame=frame[:,125:-50]\n",
    "    msk,bg=mask(frame)\n",
    "    gframe = cv2.cvtColor(frame, cv2.COLOR_BGR2GRAY)\n",
    "    gmsk = cv2.cvtColor(msk, cv2.COLOR_BGR2GRAY)\n",
    "    cv2.imshow('original', frame)\n",
    "    cv2.imshow('processed', msk)\n",
    "    cv2.imshow('processed1', bg)\n",
    "    # cv2.imshow('processed2', threshi(gframe))\n",
    "    # im=edges(frame)\n",
    "    # im,lim,p=contour(frame)\n",
    "    # print(p)\n",
    "    # cv2.imshow('frame1', im)\n",
    "    # cv2.imwrite('edge.jpg',im)\n",
    "    # cv2.imwrite('piece.jpg',frame)\n",
    "    \n",
    "    if cv2.waitKey(1) & 0xFF == ord('q'):\n",
    "        break\n",
    "    # clear_output(wait=True)\n",
    "    \n",
    "# cv2.waitKey(0)\n",
    "cam.release()\n",
    "cv2.destroyAllWindows()"
   ]
  },
  {
   "cell_type": "code",
   "execution_count": 2,
   "id": "c77bb1f3-65ec-4fa4-9d9a-73ff75347c48",
   "metadata": {},
   "outputs": [],
   "source": [
    "def mask(img):\n",
    "    image=cv2.blur(img, (10,10))\n",
    "    hsv = cv2.cvtColor(image, cv2.COLOR_BGR2HSV)\n",
    "    mask = cv2.inRange(hsv, (23,38,100), (36, 200, 200))\n",
    "    target = cv2.bitwise_and(img,img, mask=mask)"
   ]
  },
  {
   "cell_type": "code",
   "execution_count": null,
   "id": "b58f3678-9dcb-4275-9dfa-e550052760b6",
   "metadata": {},
   "outputs": [],
   "source": []
  }
 ],
 "metadata": {
  "kernelspec": {
   "display_name": "Python 3 (ipykernel)",
   "language": "python",
   "name": "python3"
  },
  "language_info": {
   "codemirror_mode": {
    "name": "ipython",
    "version": 3
   },
   "file_extension": ".py",
   "mimetype": "text/x-python",
   "name": "python",
   "nbconvert_exporter": "python",
   "pygments_lexer": "ipython3",
   "version": "3.8.2rc2"
  }
 },
 "nbformat": 4,
 "nbformat_minor": 5
}
