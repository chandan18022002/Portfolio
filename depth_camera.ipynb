{
 "cells": [
  {
   "cell_type": "code",
   "execution_count": 12,
   "id": "230d802b-11d1-4591-992f-2416d8bdbf4e",
   "metadata": {},
   "outputs": [],
   "source": [
    "import cv2\n",
    "import pyrealsense2\n",
    "\n",
    "\n",
    "from realsense_depth import *\n",
    "\n",
    "# Initialize Camera Intel Realsense\n",
    "dc = DepthCamera()\n",
    "i=104\n",
    "while True:\n",
    "    ret, depth_frame, color_frame = dc.get_frame()\n",
    "\n",
    "    cv2.imshow(\"frame\",color_frame)\n",
    "    \n",
    "    k = cv2.waitKey(1) & 0xFF\n",
    "\n",
    "    if k == ord('q'):\n",
    "        break\n",
    "    elif k == ord('s'):\n",
    "        cv2.imwrite('depth_camera/data_'+str(i)+'.png',color_frame)\n",
    "        i+=1\n",
    "dc.release()\n",
    "cv2.destroyAllWindows()"
   ]
  },
  {
   "cell_type": "code",
   "execution_count": null,
   "id": "0ecbe786-c539-4d3e-ac65-d63c7138acd0",
   "metadata": {},
   "outputs": [],
   "source": []
  }
 ],
 "metadata": {
  "kernelspec": {
   "display_name": "Sterio",
   "language": "python",
   "name": "sterio"
  },
  "language_info": {
   "codemirror_mode": {
    "name": "ipython",
    "version": 3
   },
   "file_extension": ".py",
   "mimetype": "text/x-python",
   "name": "python",
   "nbconvert_exporter": "python",
   "pygments_lexer": "ipython3",
   "version": "3.10.6"
  }
 },
 "nbformat": 4,
 "nbformat_minor": 5
}
