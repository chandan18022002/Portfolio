{
 "cells": [
  {
   "cell_type": "code",
   "execution_count": 7,
   "id": "df84ab9b",
   "metadata": {},
   "outputs": [
    {
     "name": "stdout",
     "output_type": "stream",
     "text": [
      "set 15,150,8.504,58,17.231355|23,352,6.504,134,19.582476\n"
     ]
    }
   ],
   "source": [
    "import socket\n",
    "\n",
    "serverAddressPort1   = (\"127.0.0.1\", 20001)\n",
    "# serverAddressPort2   = (\"172.16.80.70\", 20002)\n",
    "serverAddressPort2   = (\"192.168.137.98\", 20002)\n",
    "bufferSize          = 1024\n",
    "UDPClientSocket = socket.socket(family=socket.AF_INET, type=socket.SOCK_DGRAM)\n",
    "\n",
    "def udp_call(msg_to_send,serverAddressPort):\n",
    "    bytesToSend = str.encode(msg_to_send)\n",
    "    UDPClientSocket.sendto(bytesToSend, serverAddressPort)\n",
    "    msgFromServer = UDPClientSocket.recvfrom(bufferSize)\n",
    "    msg = msgFromServer[0].decode().split(' ')\n",
    "    return msg\n",
    "tmp_emitter_records=[[15,150,8.504,58,17.231355],[23,352,6.504,134,19.582476]]\n",
    "send_message=''\n",
    "for i in tmp_emitter_records:\n",
    "    for j in i:\n",
    "        send_message+=str(j)\n",
    "        send_message+=','\n",
    "    send_message=send_message[:-1]\n",
    "    send_message+='|'\n",
    "send_message=send_message[:-1]\n",
    "send_message = 'set '+send_message\n",
    "print(send_message)\n",
    "\n",
    "\n",
    "# print(udp_call('aircraft ontick1',serverAddressPort1))\n",
    "print('get ->',udp_call('get',serverAddressPort2))\n",
    "\n",
    "print('set ->',udp_call(send_message,serverAddressPort2))"
   ]
  },
  {
   "cell_type": "code",
   "execution_count": null,
   "id": "7751c3de",
   "metadata": {},
   "outputs": [
    {
     "name": "stdout",
     "output_type": "stream",
     "text": [
      "get -> ['-1', '1']\n",
      "set -> ['set', 'successful']\n"
     ]
    }
   ],
   "source": [
    "\n",
    "# print(udp_call('aircraft ontick1',serverAddressPort1))\n",
    "print('get ->',udp_call('get',serverAddressPort2))\n",
    "\n",
    "print('set ->',udp_call(send_message,serverAddressPort2))"
   ]
  },
  {
   "cell_type": "code",
   "execution_count": null,
   "id": "0fbec9b5",
   "metadata": {},
   "outputs": [],
   "source": [
    "#3,True,8.5001,267,17.231355|1,True,0.4997,64,13.88536|2,True,12.4998,176,17.534185\n",
    "#pwd,pri,freq,aoa,rec_power"
   ]
  },
  {
   "cell_type": "code",
   "execution_count": null,
   "id": "93a6ad63",
   "metadata": {},
   "outputs": [],
   "source": []
  }
 ],
 "metadata": {
  "kernelspec": {
   "display_name": "Python 3 (ipykernel)",
   "language": "python",
   "name": "python3"
  },
  "language_info": {
   "codemirror_mode": {
    "name": "ipython",
    "version": 3
   },
   "file_extension": ".py",
   "mimetype": "text/x-python",
   "name": "python",
   "nbconvert_exporter": "python",
   "pygments_lexer": "ipython3",
   "version": "3.8.2rc2"
  },
  "toc-autonumbering": false,
  "toc-showcode": true,
  "toc-showmarkdowntxt": false,
  "toc-showtags": false
 },
 "nbformat": 4,
 "nbformat_minor": 5
}
