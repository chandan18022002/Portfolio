{
 "cells": [
  {
   "cell_type": "code",
   "execution_count": 1,
   "id": "1139c69b",
   "metadata": {},
   "outputs": [],
   "source": [
    "import random"
   ]
  },
  {
   "cell_type": "code",
   "execution_count": 2,
   "id": "633d38c4",
   "metadata": {},
   "outputs": [
    {
     "name": "stdout",
     "output_type": "stream",
     "text": [
      "0,0,1,1,1,1,1,1,0,0,1,1,1,1,1,1,0,0,1,1,1,1,1,1,0,0,1,1,1,1,1,1,0,0,1,1,1,1,1,1,0,0,1,1,1,1,1,1,0,0,"
     ]
    }
   ],
   "source": [
    "#pattern\n",
    "n=50\n",
    "n1=2 #number of zeroes\n",
    "n2=6 #number of ones\n",
    "n3=n1+n2\n",
    "for j in range(n):\n",
    "    # if(j%50==0):\n",
    "        # print()\n",
    "    if(j%n3<n1):\n",
    "        print(0, end=',')\n",
    "    else:\n",
    "        print(1, end=',')"
   ]
  },
  {
   "cell_type": "code",
   "execution_count": 25,
   "id": "7b1f4cba",
   "metadata": {},
   "outputs": [],
   "source": [
    "data_set= [0,0,1,1,1,1,1,1,0,0,1,1,1,1,1,1,0,0,1,1,1,1,1,1,0,0,1,1,1,1,1,1,0,0,1,1,1,1,1,1,0,0,1,1,1,1,1,1,0,0]#2,6\n",
    "data_set+=[0,0,0,0,1,1,1,1,1,1,0,0,0,0,1,1,1,1,1,1,0,0,0,0,1,1,1,1,1,1,0,0,0,0,1,1,1,1,1,1,0,0,0,0,1,1,1,1,1,1]#4,6\n",
    "data_set+=[0,0,0,0,1,1,1,1,1,1,0,0,0,0,1,1,1,1,1,1,0,0,0,0,1,1,1,1,1,1,0,0,0,0,1,1,1,1,1,1,0,0,0,0,1,1,1,1,1,1]#4,6\n",
    "data_set+=[0,0,1,1,1,1,1,1,0,0,1,1,1,1,1,1,0,0,1,1,1,1,1,1,0,0,1,1,1,1,1,1,0,0,1,1,1,1,1,1,0,0,1,1,1,1,1,1,0,0]#2,6\n",
    "data_set+=[0,0,0,0,0,0,0,0,0,0,0,0,0,0,0,0,0,0,0,0,0,0,0,0,0,0,0,0,0,0,0,0,0,0,0,0,0,0,0,0,0,0,0,0,0,0,0,0,0,0]#1,0"
   ]
  },
  {
   "cell_type": "code",
   "execution_count": 26,
   "id": "f0505d93",
   "metadata": {},
   "outputs": [
    {
     "name": "stdout",
     "output_type": "stream",
     "text": [
      "1,1,1,0,1,1,1,1,1,1,0,1,1,1,1,1,1,0,0,1,1,1,1,1,1,1,1,1,1,1,1,1,1,1,1,1,1,1,1,1,1,1,1,1,1,1,1,1,1,1,"
     ]
    }
   ],
   "source": [
    "#random\n",
    "n=50\n",
    "prob=10\n",
    "for j in range(n):\n",
    "    r_v=random.randint(0, 99)\n",
    "    # if(j%50==0):\n",
    "        # print()\n",
    "    if(r_v<prob):\n",
    "        print(0, end=',')\n",
    "    else:\n",
    "        print(1, end=',')"
   ]
  },
  {
   "cell_type": "code",
   "execution_count": 27,
   "id": "71f2052c",
   "metadata": {},
   "outputs": [],
   "source": [
    "# data_set= [1,1,1,1,1,1,1,1,0,1,1,1,1,1,1,1,1,0,1,1,1,0,1,0,1,1,0,1,1,1,1,1,1,0,1,0,0,1,1,1,0,1,1,1,1,1,0,1,1,0]#20\n",
    "# data_set+=[0,0,1,0,1,0,0,0,0,1,1,0,1,1,0,0,0,0,0,0,1,1,1,0,1,1,1,0,1,1,1,0,1,1,0,1,1,0,0,1,0,0,0,0,0,1,1,1,1,0]#50\n",
    "# data_set+=[0,1,0,0,0,1,1,0,0,0,0,1,1,0,1,1,0,1,1,1,1,1,0,0,1,1,0,1,1,1,1,0,0,0,1,0,0,0,1,0,1,1,1,1,1,1,0,0,0,0]#50\n",
    "# data_set+=[1,1,1,1,0,1,1,1,1,1,0,1,1,1,1,1,1,1,1,0,1,1,1,1,1,1,1,1,1,1,1,1,1,1,1,1,1,0,0,1,1,1,1,0,0,1,1,0,0,0]#20\n",
    "# data_set+=[0,0,0,0,0,0,0,0,0,0,0,0,0,0,0,0,0,0,0,0,0,0,0,0,0,0,0,0,0,0,0,0,0,0,0,0,0,0,0,0,0,0,0,0,0,0,0,0,0,0]#100"
   ]
  },
  {
   "cell_type": "code",
   "execution_count": 28,
   "id": "c0a81638",
   "metadata": {},
   "outputs": [],
   "source": [
    "# data_set= [1,1,1,1,1,1,1,1,1,1,1,1,1,1,1,1,1,1,1,1,1,1,1,1,1,1,1,1,1,1,1,0,1,1,1,1,1,1,1,0,1,0,0,1,1,1,1,1,1,1]#10\n",
    "# data_set+=[0,0,0,0,0,0,1,1,0,0,0,0,1,1,0,0,0,0,0,1,1,1,0,0,0,1,1,0,0,1,1,0,0,1,0,0,1,0,1,0,0,1,1,1,0,1,1,1,1,1]#50\n",
    "# data_set+=[0,0,1,1,1,0,0,0,1,1,1,0,0,0,1,1,0,0,1,0,0,1,0,0,1,0,0,0,0,0,1,1,1,1,1,1,1,1,0,0,1,0,0,1,0,0,1,1,0,1]#50\n",
    "# data_set+=[0,1,0,1,1,1,1,1,1,1,1,1,1,1,1,1,1,1,1,1,1,1,1,0,1,1,1,1,1,1,1,1,0,1,1,0,1,1,1,1,1,1,1,1,1,1,1,1,1,1]#10\n",
    "# data_set+=[0,0,0,0,0,0,0,0,0,0,0,0,0,0,0,0,0,0,0,0,0,0,0,0,0,0,0,0,0,0,0,0,0,0,0,0,0,0,0,0,0,0,0,0,0,0,0,0,0,0]#100"
   ]
  },
  {
   "cell_type": "code",
   "execution_count": 29,
   "id": "532804c4",
   "metadata": {},
   "outputs": [],
   "source": [
    "# data_set= []\n",
    "# data_set+=[1,1,1,1,1,1,1,1,1,1,1,1,1,1,1,1,1,1,1,1,1,1,1,1,1,1,1,1,1,1,1,0,1,1,1,1,1,1,1,0,1,0,0,1,1,1,1,1,1,1]#10\n",
    "# data_set+=[0,0,0,0,0,0,1,1,0,0,0,0,1,1,0,0,0,0,0,1,1,1,0,0,0,1,1,0,0,1,1,0,0,1,0,0,1,0,1,0,0,1,1,1,0,1,1,1,1,1]#50\n",
    "# data_set+=[0,0,1,1,1,0,0,0,1,1,1,0,0,0,1,1,0,0,1,0,0,1,0,0,1,0,0,0,0,0,1,1,1,1,1,1,1,1,0,0,1,0,0,1,0,0,1,1,0,1]#50\n",
    "# data_set+=[0,1,0,1,1,1,1,1,1,1,1,1,1,1,1,1,1,1,1,1,1,1,1,0,1,1,1,1,1,1,1,1,0,1,1,0,1,1,1,1,1,1,1,1,1,1,1,1,1,1]#10\n",
    "# data_set+=[0,0,0,0,0,0,0,0,0,0,0,0,0,0,0,0,0,0,0,0,0,0,0,0,0,0,0,0,0,0,0,0,0,0,0,0,0,0,0,0,0,0,0,0,0,0,0,0,0,0]#100"
   ]
  },
  {
   "cell_type": "code",
   "execution_count": 34,
   "id": "addf9448",
   "metadata": {},
   "outputs": [
    {
     "name": "stdout",
     "output_type": "stream",
     "text": [
      "------------------------------------------\n",
      "track_deleted at tick - 51\n",
      "ageing_out_count - 15 , ageout - 3 , restore_count - 6\n",
      "Reward - 0.7142857142857143\n",
      "------------------------------------------\n",
      "------------------------------------------\n",
      "track_deleted at tick - 63\n",
      "ageing_out_count - 3 , ageout - 3 , restore_count - 0\n",
      "Reward - 1.0\n",
      "------------------------------------------\n",
      "------------------------------------------\n",
      "track_deleted at tick - 73\n",
      "ageing_out_count - 3 , ageout - 3 , restore_count - 0\n",
      "Reward - 1.0\n",
      "------------------------------------------\n",
      "------------------------------------------\n",
      "track_deleted at tick - 83\n",
      "ageing_out_count - 3 , ageout - 3 , restore_count - 0\n",
      "Reward - 1.0\n",
      "------------------------------------------\n",
      "------------------------------------------\n",
      "track_deleted at tick - 93\n",
      "ageing_out_count - 3 , ageout - 3 , restore_count - 0\n",
      "Reward - 1.0\n",
      "------------------------------------------\n",
      "------------------------------------------\n",
      "track_deleted at tick - 103\n",
      "ageing_out_count - 3 , ageout - 3 , restore_count - 0\n",
      "Reward - 1.0\n",
      "------------------------------------------\n",
      "------------------------------------------\n",
      "track_deleted at tick - 113\n",
      "ageing_out_count - 3 , ageout - 3 , restore_count - 0\n",
      "Reward - 1.0\n",
      "------------------------------------------\n",
      "------------------------------------------\n",
      "track_deleted at tick - 123\n",
      "ageing_out_count - 3 , ageout - 3 , restore_count - 0\n",
      "Reward - 1.0\n",
      "------------------------------------------\n",
      "------------------------------------------\n",
      "track_deleted at tick - 133\n",
      "ageing_out_count - 3 , ageout - 3 , restore_count - 0\n",
      "Reward - 1.0\n",
      "------------------------------------------\n",
      "------------------------------------------\n",
      "track_deleted at tick - 143\n",
      "ageing_out_count - 3 , ageout - 3 , restore_count - 0\n",
      "Reward - 1.0\n",
      "------------------------------------------\n",
      "------------------------------------------\n",
      "track_deleted at tick - 201\n",
      "ageing_out_count - 15 , ageout - 3 , restore_count - 6\n",
      "Reward - 0.7142857142857143\n",
      "------------------------------------------\n",
      "Dataset, \n",
      "0, 0, 1, 1, 1, 1, 1, 1, 0, 0, 1, 1, 1, 1, 1, 1, 0, 0, 1, 1, 1, 1, 1, 1, 0, 0, 1, 1, 1, 1, 1, 1, 0, 0, 1, 1, 1, 1, 1, 1, 0, 0, 1, 1, 1, 1, 1, 1, 0, 0, \n",
      "0, 0, 0, 0, 1, 1, 1, 1, 1, 1, 0, 0, 0, 0, 1, 1, 1, 1, 1, 1, 0, 0, 0, 0, 1, 1, 1, 1, 1, 1, 0, 0, 0, 0, 1, 1, 1, 1, 1, 1, 0, 0, 0, 0, 1, 1, 1, 1, 1, 1, \n",
      "0, 0, 0, 0, 1, 1, 1, 1, 1, 1, 0, 0, 0, 0, 1, 1, 1, 1, 1, 1, 0, 0, 0, 0, 1, 1, 1, 1, 1, 1, 0, 0, 0, 0, 1, 1, 1, 1, 1, 1, 0, 0, 0, 0, 1, 1, 1, 1, 1, 1, \n",
      "0, 0, 1, 1, 1, 1, 1, 1, 0, 0, 1, 1, 1, 1, 1, 1, 0, 0, 1, 1, 1, 1, 1, 1, 0, 0, 1, 1, 1, 1, 1, 1, 0, 0, 1, 1, 1, 1, 1, 1, 0, 0, 1, 1, 1, 1, 1, 1, 0, 0, \n",
      "0, 0, 0, 0, 0, 0, 0, 0, 0, 0, 0, 0, 0, 0, 0, 0, 0, 0, 0, 0, 0, 0, 0, 0, 0, 0, 0, 0, 0, 0, 0, 0, 0, 0, 0, 0, 0, 0, 0, 0, 0, 0, 0, 0, 0, 0, 0, 0, 0, 0, \n"
     ]
    }
   ],
   "source": [
    "base_agout=3\n",
    "\n",
    "ageing_out_count=0\n",
    "restore_count=0\n",
    "current_ageout=base_agout\n",
    "tick=0\n",
    "rise_flag=False\n",
    "fall_flag=False\n",
    "track_deleted=False\n",
    "while(tick<1000 and tick<len(data_set)):\n",
    "    if(data_set[tick]==0):\n",
    "        if(not track_deleted):\n",
    "            if(current_ageout==0):\n",
    "                print('------------------------------------------')\n",
    "                print('track_deleted at tick -',tick,)\n",
    "                print('ageing_out_count -',ageing_out_count,', ageout -',base_agout,', restore_count -',restore_count)\n",
    "                print('Reward -',ageing_out_count/(base_agout*(1+restore_count)))\n",
    "                print('------------------------------------------')\n",
    "                track_deleted=True\n",
    "                ageing_out_count=0\n",
    "                restore_count=0\n",
    "            else:\n",
    "                current_ageout-=1\n",
    "                ageing_out_count+=1\n",
    "                # print(current_ageout,tick)\n",
    "                if(fall_flag==False):\n",
    "                    fall_flag=True\n",
    "                    rise_flag=False\n",
    "    else:\n",
    "        if(rise_flag==False):\n",
    "            current_ageout=base_agout\n",
    "            if(not track_deleted):\n",
    "                restore_count+=1\n",
    "            rise_flag=True\n",
    "            fall_flag=False  \n",
    "        track_deleted=False\n",
    "    tick+=1\n",
    "print('Dataset, ')\n",
    "for i in range(len(data_set)):\n",
    "    print(data_set[i],end=', ')\n",
    "    if((i+1)%50==0):\n",
    "        print()"
   ]
  },
  {
   "cell_type": "code",
   "execution_count": null,
   "id": "249f25e4",
   "metadata": {},
   "outputs": [],
   "source": []
  },
  {
   "cell_type": "code",
   "execution_count": null,
   "id": "4868c8e4",
   "metadata": {},
   "outputs": [],
   "source": []
  }
 ],
 "metadata": {
  "kernelspec": {
   "display_name": "Python 3 (ipykernel)",
   "language": "python",
   "name": "python3"
  },
  "language_info": {
   "codemirror_mode": {
    "name": "ipython",
    "version": 3
   },
   "file_extension": ".py",
   "mimetype": "text/x-python",
   "name": "python",
   "nbconvert_exporter": "python",
   "pygments_lexer": "ipython3",
   "version": "3.8.2"
  }
 },
 "nbformat": 4,
 "nbformat_minor": 5
}
