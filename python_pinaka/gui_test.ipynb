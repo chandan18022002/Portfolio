{
 "cells": [
  {
   "cell_type": "code",
   "execution_count": 2,
   "id": "d6fac38a",
   "metadata": {},
   "outputs": [],
   "source": [
    "import cv2\n",
    "import numpy as np\n",
    "from IPython.display import clear_output"
   ]
  },
  {
   "cell_type": "code",
   "execution_count": 7,
   "id": "817bacc7",
   "metadata": {},
   "outputs": [
    {
     "name": "stdout",
     "output_type": "stream",
     "text": [
      "h 104\n",
      "a 97\n",
      "\b 8\n",
      "\b 8\n",
      "1 49\n",
      "\b 8\n"
     ]
    }
   ],
   "source": [
    "# Main Function\n",
    "\n",
    "\n",
    "img = np.zeros((700,1400,3), np.uint8)\n",
    "\n",
    "#Initialization\n",
    "play_back_speed=0\n",
    "resize=1.5\n",
    "cv2.namedWindow(\"Visualisation\", cv2.WINDOW_NORMAL)\n",
    "cv2.resizeWindow(\"Visualisation\", int(img.shape[1]/resize), int(img.shape[0]/resize))\n",
    "play_flag=1\n",
    "idx=0\n",
    "# Main Loop\n",
    "input_str=''\n",
    "while(idx<500):\n",
    "    # print('tick number - ',str(idx+1))\n",
    "    cv2.putText(img,input_str,(100,100),cv2.FONT_HERSHEY_SIMPLEX,1,(255,255,255),1,cv2.LINE_AA)\n",
    "    \n",
    "    cv2.imshow('Visualisation',img)\n",
    "    idx+=1\n",
    "    if(play_flag):\n",
    "        if(idx<15 or (idx>92 and idx<98) or (idx>99 and idx<107)):\n",
    "            quit_k=cv2.waitKey(play_back_speed)&0xFF\n",
    "        else:\n",
    "            quit_k=cv2.waitKey(play_back_speed)&0xFF\n",
    "    else:\n",
    "        quit_k = cv2.waitKey(0) & 0xFF\n",
    "    # clear_output(wait=True)\n",
    "    if quit_k == ord('q'):\n",
    "        break\n",
    "    elif quit_k == ord('p'):\n",
    "        play_flag=False\n",
    "    elif quit_k == ord('l'):\n",
    "        play_flag=True\n",
    "    else:\n",
    "        print(chr(quit_k),quit_k)\n",
    "        input_str+=chr(quit_k)\n",
    "cv2.imwrite('Visualisation.jpg',img)\n",
    "cv2.destroyAllWindows()"
   ]
  },
  {
   "cell_type": "code",
   "execution_count": 6,
   "id": "779a946d",
   "metadata": {},
   "outputs": [
    {
     "name": "stdout",
     "output_type": "stream",
     "text": [
      "0 193 234 0 None\n"
     ]
    }
   ],
   "source": [
    "# Radar coordinates\n",
    "\n",
    "img = np.zeros((500,500,3), np.uint8)\n",
    "def draw_rectangle(event,x,y,flags,param):\n",
    "    clear_output(wait=True)\n",
    "    print(event,x,y,flags,param)\n",
    "\n",
    "cv2.namedWindow('Test')\n",
    "cv2.setMouseCallback('Test', draw_rectangle)\n",
    "\n",
    "frame = np.zeros(img.shape, np.uint8)\n",
    "while True:\n",
    "    cv2.imshow('Test', frame)\n",
    "    qk=cv2.waitKey(0) & 0xFF\n",
    "    if qk == ord('q'):\n",
    "        break\n",
    "cv2.destroyAllWindows()"
   ]
  }
 ],
 "metadata": {
  "kernelspec": {
   "display_name": "Python 3 (ipykernel)",
   "language": "python",
   "name": "python3"
  },
  "language_info": {
   "codemirror_mode": {
    "name": "ipython",
    "version": 3
   },
   "file_extension": ".py",
   "mimetype": "text/x-python",
   "name": "python",
   "nbconvert_exporter": "python",
   "pygments_lexer": "ipython3",
   "version": "3.8.2rc2"
  },
  "toc-autonumbering": false,
  "toc-showcode": true,
  "toc-showmarkdowntxt": false,
  "toc-showtags": false
 },
 "nbformat": 4,
 "nbformat_minor": 5
}
