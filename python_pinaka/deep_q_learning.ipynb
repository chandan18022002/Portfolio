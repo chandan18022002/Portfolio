{
 "cells": [
  {
   "cell_type": "code",
   "execution_count": 1,
   "id": "33f9ba35",
   "metadata": {},
   "outputs": [],
   "source": [
    "import tensorflow as tf\n",
    "# tf.disable_v2_behavior()\n",
    "tf.compat.v1.disable_eager_execution()\n",
    "import numpy as np\n",
    "import random\n",
    "import gym\n",
    "from gym.envs.registration import register\n",
    "from argparse import ArgumentParser\n"
   ]
  },
  {
   "cell_type": "code",
   "execution_count": 2,
   "id": "11b2ba93",
   "metadata": {},
   "outputs": [],
   "source": [
    "class Environment():\n",
    "    def __init__(self):\n",
    "        pass\n",
    "    def FrozenLakeNoSlippery(self):\n",
    "        register(\n",
    "                 id= 'FrozenLakeNoSlippery-v1',\n",
    "                 entry_point='gym.envs.toy_text:FrozenLakeEnv',\n",
    "                 kwargs={'map_name' : '4x4', 'is_slippery': False},\n",
    "                 max_episode_steps=100,\n",
    "                 reward_threshold=0.82\n",
    "                 )\n",
    "        env = gym.make('FrozenLakeNoSlippery-v1')\n",
    "        return env\n",
    "\n",
    "class DeepQAgent():\n",
    "    def __init__(self, env):\n",
    "        # set hyperparameters\n",
    "        self.max_episodes = 20000\n",
    "        self.max_actions = 99\n",
    "        self.discount = 0.93\n",
    "        self.exploration_rate = 1.0\n",
    "        self.exploration_decay = 1.0/20000\n",
    "        # get envirionment\n",
    "        self.env = env\n",
    "    \n",
    "        # nn_model parameters\n",
    "        self.in_units = env.observation_space.n\n",
    "        self.out_units = env.action_space.n\n",
    "        self.hidden_units = 10\n",
    "        \n",
    "        # construct nn model\n",
    "        self._nn_model()\n",
    "    \n",
    "        # save nn model\n",
    "        self.saver = tf.compat.v1.train.Saver()\n",
    "    def _nn_model(self):\n",
    "        self.a0 = tf.compat.v1.placeholder(tf.float32, shape=[1, self.in_units]) # input layer\n",
    "        self.y = tf.compat.v1.placeholder(tf.float32, shape=[1, self.out_units]) # ouput layer\n",
    "        \n",
    "        # from input layer to hidden layer\n",
    "        self.w1 = tf.Variable(tf.zeros([self.in_units, self.hidden_units], dtype=tf.float32)) # weight\n",
    "        self.b1 = tf.Variable(tf.random.uniform([self.hidden_units], 0, 0.01, dtype=tf.float32)) # bias\n",
    "        self.a1 = tf.nn.relu(tf.matmul(self.a0, self.w1) + self.b1) # the ouput of hidden layer\n",
    "        \n",
    "        # from hidden layer to output layer\n",
    "        self.w2 = tf.Variable(tf.zeros([self.hidden_units, self.out_units], dtype=tf.float32)) # weight\n",
    "        self.b2 = tf.Variable(tf.random.uniform([self.out_units], 0, 0.01, dtype=tf.float32)) # bias\n",
    "        \n",
    "        # Q-value and Action\n",
    "        self.a2 = tf.matmul(self.a1, self.w2) + self.b2 # the predicted_y (Q-value) of four actions\n",
    "        self.action = tf.argmax(self.a2, 1) # the agent would take the action which has maximum Q-value\n",
    "\n",
    "        # loss function\n",
    "        self.loss = tf.reduce_sum(tf.square(self.a2-self.y))\n",
    "        \n",
    "        # upate model\n",
    "        self.update_model =  tf.compat.v1.train.GradientDescentOptimizer(learning_rate=0.05).minimize(self.loss)\n",
    "    def train(self,env):\n",
    "        # get hyper parameters\n",
    "        max_episodes = self.max_episodes\n",
    "        max_actions = self.max_actions\n",
    "        discount = self.discount\n",
    "        exploration_rate = self.exploration_rate\n",
    "        exploration_decay = self.exploration_decay\n",
    "        \n",
    "        # start training\n",
    "        with tf.compat.v1.Session() as sess:\n",
    "            sess.run(tf.compat.v1.global_variables_initializer()) # initialize tf variables\n",
    "            for i in range(max_episodes):\n",
    "                state = env.reset()[0] # reset the environment per eisodes\n",
    "                for j in range(max_actions):\n",
    "                     # get action and Q-values of all actions\n",
    "                    action, pred_Q = sess.run([self.action, self.a2],feed_dict={self.a0:np.eye(16)[state:state+1]})\n",
    "                    \n",
    "                    # if explorating, then taking a random action instead\n",
    "                    if np.random.rand()<exploration_rate: \n",
    "                        action[0] = env.action_space.sample() \n",
    "\n",
    "                    # get nextQ in given next_state\n",
    "                    next_state, rewards, done, terminated, info = env.step(action[0])\n",
    "                    next_Q = sess.run(self.a2,feed_dict={self.a0:np.eye(16)[next_state:next_state+1]})\n",
    "\n",
    "                    # update\n",
    "                    update_Q = pred_Q\n",
    "                    update_Q [0,action[0]] = rewards + discount*np.max(next_Q)\n",
    "                    \n",
    "                    sess.run([self.update_model],\n",
    "                             feed_dict={self.a0:np.identity(16)[state:state+1],self.y:update_Q})\n",
    "                    state = next_state\n",
    "                    \n",
    "                     # if fall in the hole or arrive to the goal, then this episode is terminated.\n",
    "                    if done:\n",
    "                        if exploration_rate > 0.001:\n",
    "                            exploration_rate -= exploration_decay\n",
    "                        break\n",
    "            # save model\n",
    "            save_path = self.saver.save(sess, \"./nn_model.ckpt\")\n",
    "    def test(self,env):\n",
    "        # get hyper-parameters\n",
    "        max_actions = self.max_actions\n",
    "        # start testing\n",
    "        with tf.compat.v1.Session() as sess:\n",
    "            # restore the model\n",
    "            sess.run(tf.compat.v1.global_variables_initializer())\n",
    "            saver=tf.compat.v1.train.import_meta_graph(\"./nn_model.ckpt.meta\") # restore model\n",
    "            saver.restore(sess, tf.train.latest_checkpoint('./'))# restore variables\n",
    "            \n",
    "            # testing result\n",
    "            state = env.reset()[0]\n",
    "            for j in range(max_actions):\n",
    "                # env.render() # show the environments\n",
    "                # always take optimal action\n",
    "                # print(state)\n",
    "                action, pred_Q = sess.run([self.action, self.a2],feed_dict={self.a0:np.eye(16)[state:state+1]})\n",
    "                # update\n",
    "                next_state, rewards, done, info = env.step(action[0])\n",
    "                state = next_state\n",
    "                if done:\n",
    "                    # env.render()\n",
    "                    break\n",
    "    def displayQ():\n",
    "        # show information\n",
    "        pass"
   ]
  },
  {
   "cell_type": "code",
   "execution_count": 3,
   "id": "6f5db657",
   "metadata": {},
   "outputs": [
    {
     "name": "stdout",
     "output_type": "stream",
     "text": [
      "START TRAINING...\n"
     ]
    }
   ],
   "source": [
    "if __name__ == '__main__':\n",
    "    env = Environment().FrozenLakeNoSlippery() # construct the environment\n",
    "    agent = DeepQAgent(env) # get agent\n",
    "    print(\"START TRAINING...\")\n",
    "    agent.train(env)\n",
    "    print(\"\\n==============\\nTEST==============\\n\")\n"
   ]
  },
  {
   "cell_type": "code",
   "execution_count": null,
   "id": "e4e7d308",
   "metadata": {},
   "outputs": [
    {
     "name": "stdout",
     "output_type": "stream",
     "text": [
      "INFO:tensorflow:Restoring parameters from ./nn_model.ckpt\n"
     ]
    },
    {
     "ename": "TypeError",
     "evalue": "can only concatenate tuple (not \"int\") to tuple",
     "output_type": "error",
     "traceback": [
      "\u001b[1;31m---------------------------------------------------------------------------\u001b[0m",
      "\u001b[1;31mTypeError\u001b[0m                                 Traceback (most recent call last)",
      "Cell \u001b[1;32mIn[59], line 1\u001b[0m\n\u001b[1;32m----> 1\u001b[0m \u001b[43magent\u001b[49m\u001b[38;5;241;43m.\u001b[39;49m\u001b[43mtest\u001b[49m\u001b[43m(\u001b[49m\u001b[43menv\u001b[49m\u001b[43m)\u001b[49m\n",
      "Cell \u001b[1;32mIn[50], line 113\u001b[0m, in \u001b[0;36mDeepQAgent.test\u001b[1;34m(self, env)\u001b[0m\n\u001b[0;32m    111\u001b[0m env\u001b[38;5;241m.\u001b[39mrender() \u001b[38;5;66;03m# show the environments\u001b[39;00m\n\u001b[0;32m    112\u001b[0m \u001b[38;5;66;03m# always take optimal action\u001b[39;00m\n\u001b[1;32m--> 113\u001b[0m action, pred_Q \u001b[38;5;241m=\u001b[39m sess\u001b[38;5;241m.\u001b[39mrun([\u001b[38;5;28mself\u001b[39m\u001b[38;5;241m.\u001b[39maction, \u001b[38;5;28mself\u001b[39m\u001b[38;5;241m.\u001b[39ma2],feed_dict\u001b[38;5;241m=\u001b[39m{\u001b[38;5;28mself\u001b[39m\u001b[38;5;241m.\u001b[39ma0:np\u001b[38;5;241m.\u001b[39meye(\u001b[38;5;241m16\u001b[39m)[state:\u001b[43mstate\u001b[49m\u001b[38;5;241;43m+\u001b[39;49m\u001b[38;5;241;43m1\u001b[39;49m]})\n\u001b[0;32m    114\u001b[0m \u001b[38;5;66;03m# update\u001b[39;00m\n\u001b[0;32m    115\u001b[0m next_state, rewards, done, info \u001b[38;5;241m=\u001b[39m env\u001b[38;5;241m.\u001b[39mstep(action[\u001b[38;5;241m0\u001b[39m])\n",
      "\u001b[1;31mTypeError\u001b[0m: can only concatenate tuple (not \"int\") to tuple"
     ]
    }
   ],
   "source": [
    "if __name__ == '__main__':\n",
    "    agent.test(env)"
   ]
  },
  {
   "cell_type": "code",
   "execution_count": null,
   "id": "5808259d",
   "metadata": {},
   "outputs": [],
   "source": []
  },
  {
   "cell_type": "code",
   "execution_count": null,
   "id": "69d144c5",
   "metadata": {},
   "outputs": [],
   "source": []
  }
 ],
 "metadata": {
  "kernelspec": {
   "display_name": "Python 3 (ipykernel)",
   "language": "python",
   "name": "python3"
  },
  "language_info": {
   "codemirror_mode": {
    "name": "ipython",
    "version": 3
   },
   "file_extension": ".py",
   "mimetype": "text/x-python",
   "name": "python",
   "nbconvert_exporter": "python",
   "pygments_lexer": "ipython3",
   "version": "3.8.2rc2"
  },
  "toc-autonumbering": false,
  "toc-showcode": true,
  "toc-showmarkdowntxt": false,
  "toc-showtags": false
 },
 "nbformat": 4,
 "nbformat_minor": 5
}
