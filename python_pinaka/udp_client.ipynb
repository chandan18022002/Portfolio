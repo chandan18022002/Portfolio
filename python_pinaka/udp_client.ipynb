{
 "cells": [
  {
   "cell_type": "code",
   "execution_count": 3,
   "id": "6f1b99b2",
   "metadata": {},
   "outputs": [
    {
     "name": "stdout",
     "output_type": "stream",
     "text": [
      "Message from Server b'Hello UDP Client'\n",
      "Message from Server b'Hello UDP Client'\n",
      "Message from Server b'Hello UDP Client'\n",
      "Message from Server b'Hello UDP Client'\n"
     ]
    }
   ],
   "source": [
    "import socket\n",
    "import time\n",
    "msgFromClient       = \"Hello UDP Server\"\n",
    "bytesToSend         = str.encode(msgFromClient)\n",
    "serverAddressPort   = (\"127.0.0.1\", 20001)\n",
    "bufferSize          = 1024\n",
    "# Create a UDP socket at client side\n",
    "UDPClientSocket = socket.socket(family=socket.AF_INET, type=socket.SOCK_DGRAM)\n",
    "# Send to server using created UDP socket\n",
    "while(True):\n",
    "    UDPClientSocket.sendto(bytesToSend, serverAddressPort)\n",
    "    msgFromServer = UDPClientSocket.recvfrom(bufferSize)\n",
    "    msg = \"Message from Server {}\".format(msgFromServer[0])\n",
    "    print(msg)\n",
    "    time.sleep(1)"
   ]
  }
 ],
 "metadata": {
  "kernelspec": {
   "display_name": "Python 3 (ipykernel)",
   "language": "python",
   "name": "python3"
  },
  "language_info": {
   "codemirror_mode": {
    "name": "ipython",
    "version": 3
   },
   "file_extension": ".py",
   "mimetype": "text/x-python",
   "name": "python",
   "nbconvert_exporter": "python",
   "pygments_lexer": "ipython3",
   "version": "3.8.2rc2"
  },
  "toc-autonumbering": false,
  "toc-showcode": true,
  "toc-showmarkdowntxt": false,
  "toc-showtags": false
 },
 "nbformat": 4,
 "nbformat_minor": 5
}
