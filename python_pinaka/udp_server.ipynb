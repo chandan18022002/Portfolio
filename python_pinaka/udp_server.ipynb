{
 "cells": [
  {
   "cell_type": "code",
   "execution_count": 1,
   "id": "6f1b99b2",
   "metadata": {},
   "outputs": [
    {
     "name": "stdout",
     "output_type": "stream",
     "text": [
      "UDP server up and listening\n",
      "Message from Client:b'Hello UDP Server'\n",
      "Client IP Address:('127.0.0.1', 49674)\n",
      "Message from Client:b'Hello UDP Server'\n",
      "Client IP Address:('127.0.0.1', 49674)\n",
      "Message from Client:b'Hello UDP Server'\n",
      "Client IP Address:('127.0.0.1', 49674)\n",
      "Message from Client:b'Hello UDP Server'\n",
      "Client IP Address:('127.0.0.1', 49674)\n",
      "Message from Client:b'Hello UDP Server'\n",
      "Client IP Address:('127.0.0.1', 49674)\n",
      "Message from Client:b'Hello UDP Server'\n",
      "Client IP Address:('127.0.0.1', 49674)\n",
      "Message from Client:b'Hello UDP Server'\n",
      "Client IP Address:('127.0.0.1', 49674)\n",
      "Message from Client:b'Hello UDP Server'\n",
      "Client IP Address:('127.0.0.1', 49674)\n"
     ]
    }
   ],
   "source": [
    "import socket\n",
    "localIP     = \"127.0.0.1\"\n",
    "localPort   = 20001\n",
    "bufferSize  = 1024\n",
    "msgFromServer       = \"Hello UDP Client\"\n",
    "bytesToSend         = str.encode(msgFromServer)\n",
    "# Create a datagram socket\n",
    "UDPServerSocket = socket.socket(family=socket.AF_INET, type=socket.SOCK_DGRAM)\n",
    "# Bind to address and ip\n",
    "UDPServerSocket.bind((localIP, localPort))\n",
    "print(\"UDP server up and listening\")\n",
    "# Listen for incoming datagrams\n",
    "while(True):\n",
    "    bytesAddressPair = UDPServerSocket.recvfrom(bufferSize)\n",
    "    message = bytesAddressPair[0]\n",
    "    address = bytesAddressPair[1]\n",
    "    clientMsg = \"Message from Client:{}\".format(message)\n",
    "    clientIP  = \"Client IP Address:{}\".format(address)\n",
    "    print(clientMsg)\n",
    "    print(clientIP)\n",
    "    # Sending a reply to client\n",
    "    UDPServerSocket.sendto(bytesToSend, address)"
   ]
  },
  {
   "cell_type": "code",
   "execution_count": null,
   "id": "14a580ef",
   "metadata": {},
   "outputs": [],
   "source": []
  }
 ],
 "metadata": {
  "kernelspec": {
   "display_name": "Python 3 (ipykernel)",
   "language": "python",
   "name": "python3"
  },
  "language_info": {
   "codemirror_mode": {
    "name": "ipython",
    "version": 3
   },
   "file_extension": ".py",
   "mimetype": "text/x-python",
   "name": "python",
   "nbconvert_exporter": "python",
   "pygments_lexer": "ipython3",
   "version": "3.8.2rc2"
  },
  "toc-autonumbering": false,
  "toc-showcode": true,
  "toc-showmarkdowntxt": false,
  "toc-showtags": false
 },
 "nbformat": 4,
 "nbformat_minor": 5
}
