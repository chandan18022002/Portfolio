{
 "cells": [
  {
   "cell_type": "code",
   "execution_count": null,
   "id": "72c57d29",
   "metadata": {},
   "outputs": [],
   "source": [
    "from pynq import Overlay,allocate\n",
    "import numpy as np\n",
    "import matplotlib.pyplot as plt\n",
    "from prettytable import PrettyTable"
   ]
  },
  {
   "cell_type": "code",
   "execution_count": 123,
   "id": "e8cde5af",
   "metadata": {},
   "outputs": [],
   "source": [
    "ol = Overlay(\"design_1.bit\")\n",
    "# ol = Overlay(\"../dma_pwd/design_1.bit\")"
   ]
  },
  {
   "cell_type": "code",
   "execution_count": 124,
   "id": "6c4f6bc1",
   "metadata": {},
   "outputs": [
    {
     "data": {
      "text/plain": [
       "dict_keys(['pdw', 'pwd', 'axi_dma_0', 'axi_dma_1', 'processing_system7_0'])"
      ]
     },
     "execution_count": 124,
     "metadata": {},
     "output_type": "execute_result"
    }
   ],
   "source": [
    "ol.ip_dict.keys()\n",
    "# ol?"
   ]
  },
  {
   "cell_type": "code",
   "execution_count": 125,
   "id": "0a4f0eaa",
   "metadata": {},
   "outputs": [],
   "source": [
    "dma = ol.axi_dma_1\n",
    "dma_send = ol.axi_dma_1.sendchannel\n",
    "dma_recv = ol.axi_dma_1.recvchannel"
   ]
  },
  {
   "cell_type": "code",
   "execution_count": 126,
   "id": "3156ad49",
   "metadata": {},
   "outputs": [
    {
     "name": "stdout",
     "output_type": "stream",
     "text": [
      "False False\n"
     ]
    }
   ],
   "source": [
    "print(dma_recv.idle,dma_send.idle)"
   ]
  },
  {
   "cell_type": "code",
   "execution_count": 127,
   "id": "22ca1f49",
   "metadata": {
    "scrolled": true
   },
   "outputs": [],
   "source": [
    "data_size = 3*(10**1)\n",
    "if(data_size>106752):\n",
    "    data_size=106752\n",
    "input_buffer = allocate(shape=(data_size,), dtype=np.uint32)\n",
    "output_buffer = allocate(shape=(data_size,), dtype=np.uint32)\n",
    "time_l = allocate(shape=(data_size,), dtype=np.uint32)"
   ]
  },
  {
   "cell_type": "code",
   "execution_count": 128,
   "id": "48cc23ad",
   "metadata": {},
   "outputs": [],
   "source": [
    "for i in range(data_size):\n",
    "    input_buffer[i] = 0\n",
    "    time_l[i] = i"
   ]
  },
  {
   "cell_type": "code",
   "execution_count": 129,
   "id": "71287c36",
   "metadata": {},
   "outputs": [],
   "source": [
    "dma_send.transfer(input_buffer)\n",
    "dma_recv.transfer(output_buffer)"
   ]
  },
  {
   "cell_type": "code",
   "execution_count": null,
   "id": "60192c7d",
   "metadata": {},
   "outputs": [],
   "source": [
    "output_buffer[-data_size//2:]"
   ]
  },
  {
   "cell_type": "code",
   "execution_count": 137,
   "id": "16478102",
   "metadata": {},
   "outputs": [],
   "source": [
    "pdw=[]\n",
    "for i in range(len(output_buffer)):\n",
    "    if(output_buffer[i])==0:\n",
    "        print(i)\n",
    "        break\n",
    "    if(i%2==0):\n",
    "        tmp_pdw={}\n",
    "        tmp_pdw['TOA']=output_buffer[i+1]\n",
    "        tmp_pdw['PWD']=output_buffer[i]\n",
    "        pdw.append(tmp_pdw)"
   ]
  },
  {
   "cell_type": "code",
   "execution_count": 140,
   "id": "64854277",
   "metadata": {},
   "outputs": [
    {
     "name": "stdout",
     "output_type": "stream",
     "text": [
      " TOA        | PWD       \n",
      "\n",
      " 297079     | 600       \n",
      " 361037     | 600       \n",
      " 460747     | 1000      \n",
      " 560956     | 200       \n",
      " 661023     | 600       \n",
      " 910947     | 200       \n",
      " 961014     | 600       \n",
      " 1260938    | 672       \n",
      " 1460718    | 1000      \n",
      " 1561001    | 600       \n",
      " 1610924    | 200       \n",
      " 1860992    | 600       \n",
      " 1960915    | 200       \n",
      " 2160983    | 600       \n",
      " 2310906    | 200       \n"
     ]
    }
   ],
   "source": [
    "if(len(pdw)>1):\n",
    "    title=list(pdw[0].keys())\n",
    "    print(\" {:<10} | {:<10}\".format(title[0],title[1]))\n",
    "    print()\n",
    "    for i in pdw[:]:\n",
    "        values=list(i.values())\n",
    "        print(\" {:<10} | {:<10}\".format(values[0], values[1]))"
   ]
  },
  {
   "cell_type": "code",
   "execution_count": 67,
   "id": "f8df420e",
   "metadata": {
    "scrolled": true
   },
   "outputs": [
    {
     "name": "stdout",
     "output_type": "stream",
     "text": [
      "600\n",
      "200\n",
      "1000\n"
     ]
    }
   ],
   "source": [
    "# print(len(pwds),len(output_buffer),len(output_buffer)-len(pwds))\n",
    "for i in tuple(pwds.keys()):\n",
    "    if pwds[i][0]>0 and i!=0:\n",
    "        print(i)"
   ]
  },
  {
   "cell_type": "code",
   "execution_count": 61,
   "id": "4918c822",
   "metadata": {},
   "outputs": [
    {
     "name": "stdout",
     "output_type": "stream",
     "text": [
      " TOA        | PWD       \n"
     ]
    }
   ],
   "source": []
  },
  {
   "cell_type": "code",
   "execution_count": null,
   "id": "b28d3b8a",
   "metadata": {},
   "outputs": [],
   "source": []
  },
  {
   "cell_type": "code",
   "execution_count": null,
   "id": "0432bafb",
   "metadata": {},
   "outputs": [],
   "source": [
    "del input_buffer, output_buffer"
   ]
  }
 ],
 "metadata": {
  "kernelspec": {
   "display_name": "Python 3 (ipykernel)",
   "language": "python",
   "name": "python3"
  },
  "language_info": {
   "codemirror_mode": {
    "name": "ipython",
    "version": 3
   },
   "file_extension": ".py",
   "mimetype": "text/x-python",
   "name": "python",
   "nbconvert_exporter": "python",
   "pygments_lexer": "ipython3",
   "version": "3.8.2rc2"
  }
 },
 "nbformat": 4,
 "nbformat_minor": 5
}
